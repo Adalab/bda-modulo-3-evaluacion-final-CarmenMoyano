{
 "cells": [
  {
   "cell_type": "code",
   "execution_count": 221,
   "metadata": {},
   "outputs": [],
   "source": [
    "# importamos las librerías que necesitamos\n",
    "# Tratamiento de datos\n",
    "# -----------------------------------------------------------------------\n",
    "import pandas as pd\n",
    "import numpy as np\n",
    "\n",
    "# Imputación de nulos usando métodos avanzados estadísticos\n",
    "# -----------------------------------------------------------------------\n",
    "from sklearn.impute import SimpleImputer\n",
    "from sklearn.experimental import enable_iterative_imputer\n",
    "from sklearn.impute import IterativeImputer\n",
    "from sklearn.impute import KNNImputer\n",
    "\n",
    "# Librerías de visualización\n",
    "# -----------------------------------------------------------------------\n",
    "import seaborn as sns\n",
    "import matplotlib.pyplot as plt\n",
    "\n",
    "# Configuración\n",
    "# -----------------------------------------------------------------------\n",
    "pd.set_option('display.max_columns', None) # para poder visualizar todas las columnas de los DataFrames\n",
    "\n",
    "# Evaluar linealidad de las relaciones entre las variables\n",
    "# ------------------------------------------------------------------------------\n",
    "from scipy.stats import shapiro, kstest\n",
    "from itertools import combinations\n",
    "\n",
    "# Gestión de los warnings\n",
    "# -----------------------------------------------------------------------\n",
    "import warnings\n",
    "warnings.filterwarnings(\"ignore\")"
   ]
  },
  {
   "cell_type": "code",
   "execution_count": 222,
   "metadata": {},
   "outputs": [],
   "source": [
    "df1 = pd.read_csv(\"Files/Customer Flight Activity.csv\")"
   ]
  },
  {
   "cell_type": "code",
   "execution_count": 223,
   "metadata": {},
   "outputs": [],
   "source": [
    "columnas_traducidas = {\n",
    "    'Loyalty Number': 'numero_cliente',\n",
    "    'Year': 'ano',\n",
    "    'Month': 'mes',\n",
    "    'Flights Booked': 'vuelos_reservados',\n",
    "    'Flights with Companions': 'vuelos_con_acompanantes',\n",
    "    'Total Flights': 'total_vuelos',\n",
    "    'Distance': 'distancia',\n",
    "    'Points Accumulated': 'puntos_acumulados',\n",
    "    'Points Redeemed': 'puntos_canjeados',\n",
    "    'Dollar Cost Points Redeemed': 'costo_en_dolares_de_los_puntos_canjeados'\n",
    "}\n",
    "df1.rename(columns= columnas_traducidas, inplace=True)"
   ]
  },
  {
   "cell_type": "markdown",
   "metadata": {},
   "source": [
    "Vamos a eliminar las filas duplicadas"
   ]
  },
  {
   "cell_type": "code",
   "execution_count": 224,
   "metadata": {},
   "outputs": [
    {
     "name": "stdout",
     "output_type": "stream",
     "text": [
      "El número de duplicados es 3712\n",
      "El número de filas antes de borrar los duplicados es 405624\n",
      "El número de filas después de borrar los duplicados es 401912\n",
      "El cálculo es correcto 401912\n"
     ]
    }
   ],
   "source": [
    "# Comprobamos el numero de duplicados\n",
    "print(f\"El número de duplicados es {df1.duplicated(keep=False).sum()}\")\n",
    "# comprobamos el numero de filas\n",
    "print(f\"El número de filas antes de borrar los duplicados es {df1.shape[0]}\")\n",
    "# Eliminamos los duplicados\n",
    "df1.drop_duplicates(keep = False, inplace=True)\n",
    "# Comprobamos\n",
    "print(f\"El número de filas después de borrar los duplicados es {df1.shape[0]}\")\n",
    "print(f\"El cálculo es correcto {405624-3712}\")"
   ]
  },
  {
   "cell_type": "code",
   "execution_count": 225,
   "metadata": {},
   "outputs": [
    {
     "data": {
      "text/plain": [
       "0"
      ]
     },
     "execution_count": 225,
     "metadata": {},
     "output_type": "execute_result"
    }
   ],
   "source": [
    "df1.duplicated().sum()"
   ]
  },
  {
   "cell_type": "code",
   "execution_count": 226,
   "metadata": {},
   "outputs": [
    {
     "data": {
      "text/html": [
       "<div>\n",
       "<style scoped>\n",
       "    .dataframe tbody tr th:only-of-type {\n",
       "        vertical-align: middle;\n",
       "    }\n",
       "\n",
       "    .dataframe tbody tr th {\n",
       "        vertical-align: top;\n",
       "    }\n",
       "\n",
       "    .dataframe thead th {\n",
       "        text-align: right;\n",
       "    }\n",
       "</style>\n",
       "<table border=\"1\" class=\"dataframe\">\n",
       "  <thead>\n",
       "    <tr style=\"text-align: right;\">\n",
       "      <th></th>\n",
       "      <th>numero_cliente</th>\n",
       "      <th>ano</th>\n",
       "      <th>mes</th>\n",
       "      <th>vuelos_reservados</th>\n",
       "      <th>vuelos_con_acompanantes</th>\n",
       "      <th>total_vuelos</th>\n",
       "      <th>distancia</th>\n",
       "      <th>puntos_acumulados</th>\n",
       "      <th>puntos_canjeados</th>\n",
       "      <th>costo_en_dolares_de_los_puntos_canjeados</th>\n",
       "    </tr>\n",
       "  </thead>\n",
       "  <tbody>\n",
       "    <tr>\n",
       "      <th>count</th>\n",
       "      <td>401912.000000</td>\n",
       "      <td>401912.000000</td>\n",
       "      <td>401912.000000</td>\n",
       "      <td>401912.000000</td>\n",
       "      <td>401912.000000</td>\n",
       "      <td>401912.000000</td>\n",
       "      <td>401912.000000</td>\n",
       "      <td>401912.000000</td>\n",
       "      <td>401912.000000</td>\n",
       "      <td>401912.000000</td>\n",
       "    </tr>\n",
       "    <tr>\n",
       "      <th>mean</th>\n",
       "      <td>549716.502379</td>\n",
       "      <td>2017.500697</td>\n",
       "      <td>6.502662</td>\n",
       "      <td>4.153058</td>\n",
       "      <td>1.041335</td>\n",
       "      <td>5.194393</td>\n",
       "      <td>1220.045097</td>\n",
       "      <td>124.835129</td>\n",
       "      <td>30.980384</td>\n",
       "      <td>2.507449</td>\n",
       "    </tr>\n",
       "    <tr>\n",
       "      <th>std</th>\n",
       "      <td>258983.993365</td>\n",
       "      <td>0.500000</td>\n",
       "      <td>3.451923</td>\n",
       "      <td>5.234539</td>\n",
       "      <td>2.084059</td>\n",
       "      <td>6.532401</td>\n",
       "      <td>1435.019919</td>\n",
       "      <td>146.790294</td>\n",
       "      <td>126.029363</td>\n",
       "      <td>10.193981</td>\n",
       "    </tr>\n",
       "    <tr>\n",
       "      <th>min</th>\n",
       "      <td>100018.000000</td>\n",
       "      <td>2017.000000</td>\n",
       "      <td>1.000000</td>\n",
       "      <td>0.000000</td>\n",
       "      <td>0.000000</td>\n",
       "      <td>0.000000</td>\n",
       "      <td>0.000000</td>\n",
       "      <td>0.000000</td>\n",
       "      <td>0.000000</td>\n",
       "      <td>0.000000</td>\n",
       "    </tr>\n",
       "    <tr>\n",
       "      <th>25%</th>\n",
       "      <td>326267.000000</td>\n",
       "      <td>2017.000000</td>\n",
       "      <td>4.000000</td>\n",
       "      <td>0.000000</td>\n",
       "      <td>0.000000</td>\n",
       "      <td>0.000000</td>\n",
       "      <td>0.000000</td>\n",
       "      <td>0.000000</td>\n",
       "      <td>0.000000</td>\n",
       "      <td>0.000000</td>\n",
       "    </tr>\n",
       "    <tr>\n",
       "      <th>50%</th>\n",
       "      <td>550519.000000</td>\n",
       "      <td>2018.000000</td>\n",
       "      <td>7.000000</td>\n",
       "      <td>1.000000</td>\n",
       "      <td>0.000000</td>\n",
       "      <td>2.000000</td>\n",
       "      <td>555.000000</td>\n",
       "      <td>57.000000</td>\n",
       "      <td>0.000000</td>\n",
       "      <td>0.000000</td>\n",
       "    </tr>\n",
       "    <tr>\n",
       "      <th>75%</th>\n",
       "      <td>772025.000000</td>\n",
       "      <td>2018.000000</td>\n",
       "      <td>10.000000</td>\n",
       "      <td>8.000000</td>\n",
       "      <td>1.000000</td>\n",
       "      <td>10.000000</td>\n",
       "      <td>2352.000000</td>\n",
       "      <td>240.000000</td>\n",
       "      <td>0.000000</td>\n",
       "      <td>0.000000</td>\n",
       "    </tr>\n",
       "    <tr>\n",
       "      <th>max</th>\n",
       "      <td>999986.000000</td>\n",
       "      <td>2018.000000</td>\n",
       "      <td>12.000000</td>\n",
       "      <td>21.000000</td>\n",
       "      <td>11.000000</td>\n",
       "      <td>32.000000</td>\n",
       "      <td>6293.000000</td>\n",
       "      <td>676.500000</td>\n",
       "      <td>876.000000</td>\n",
       "      <td>71.000000</td>\n",
       "    </tr>\n",
       "  </tbody>\n",
       "</table>\n",
       "</div>"
      ],
      "text/plain": [
       "       numero_cliente            ano            mes  vuelos_reservados  \\\n",
       "count   401912.000000  401912.000000  401912.000000      401912.000000   \n",
       "mean    549716.502379    2017.500697       6.502662           4.153058   \n",
       "std     258983.993365       0.500000       3.451923           5.234539   \n",
       "min     100018.000000    2017.000000       1.000000           0.000000   \n",
       "25%     326267.000000    2017.000000       4.000000           0.000000   \n",
       "50%     550519.000000    2018.000000       7.000000           1.000000   \n",
       "75%     772025.000000    2018.000000      10.000000           8.000000   \n",
       "max     999986.000000    2018.000000      12.000000          21.000000   \n",
       "\n",
       "       vuelos_con_acompanantes   total_vuelos      distancia  \\\n",
       "count            401912.000000  401912.000000  401912.000000   \n",
       "mean                  1.041335       5.194393    1220.045097   \n",
       "std                   2.084059       6.532401    1435.019919   \n",
       "min                   0.000000       0.000000       0.000000   \n",
       "25%                   0.000000       0.000000       0.000000   \n",
       "50%                   0.000000       2.000000     555.000000   \n",
       "75%                   1.000000      10.000000    2352.000000   \n",
       "max                  11.000000      32.000000    6293.000000   \n",
       "\n",
       "       puntos_acumulados  puntos_canjeados  \\\n",
       "count      401912.000000     401912.000000   \n",
       "mean          124.835129         30.980384   \n",
       "std           146.790294        126.029363   \n",
       "min             0.000000          0.000000   \n",
       "25%             0.000000          0.000000   \n",
       "50%            57.000000          0.000000   \n",
       "75%           240.000000          0.000000   \n",
       "max           676.500000        876.000000   \n",
       "\n",
       "       costo_en_dolares_de_los_puntos_canjeados  \n",
       "count                             401912.000000  \n",
       "mean                                   2.507449  \n",
       "std                                   10.193981  \n",
       "min                                    0.000000  \n",
       "25%                                    0.000000  \n",
       "50%                                    0.000000  \n",
       "75%                                    0.000000  \n",
       "max                                   71.000000  "
      ]
     },
     "execution_count": 226,
     "metadata": {},
     "output_type": "execute_result"
    }
   ],
   "source": [
    "df1.describe()"
   ]
  },
  {
   "cell_type": "code",
   "execution_count": 227,
   "metadata": {},
   "outputs": [
    {
     "data": {
      "image/png": "[encoded data removed]",
      "text/plain": [
       "<Figure size 576x432 with 1 Axes>"
      ]
     },
     "metadata": {
      "needs_background": "light"
     },
     "output_type": "display_data"
    },
    {
     "data": {
      "image/png": "[encoded data removed]",
      "text/plain": [
       "<Figure size 576x432 with 1 Axes>"
      ]
     },
     "metadata": {
      "needs_background": "light"
     },
     "output_type": "display_data"
    },
    {
     "data": {
      "image/png": "[encoded data removed]",
      "text/plain": [
       "<Figure size 576x432 with 1 Axes>"
      ]
     },
     "metadata": {
      "needs_background": "light"
     },
     "output_type": "display_data"
    },
    {
     "data": {
      "image/png": "[encoded data removed]",
      "text/plain": [
       "<Figure size 576x432 with 1 Axes>"
      ]
     },
     "metadata": {
      "needs_background": "light"
     },
     "output_type": "display_data"
    },
    {
     "data": {
      "image/png": "[encoded data removed]",
      "text/plain": [
       "<Figure size 576x432 with 1 Axes>"
      ]
     },
     "metadata": {
      "needs_background": "light"
     },
     "output_type": "display_data"
    },
    {
     "data": {
      "image/png": "[encoded data removed]",
      "text/plain": [
       "<Figure size 576x432 with 1 Axes>"
      ]
     },
     "metadata": {
      "needs_background": "light"
     },
     "output_type": "display_data"
    },
    {
     "data": {
      "image/png": "[encoded data removed]",
      "text/plain": [
       "<Figure size 576x432 with 1 Axes>"
      ]
     },
     "metadata": {
      "needs_background": "light"
     },
     "output_type": "display_data"
    }
   ],
   "source": [
    "for columna in df1.iloc[:,3:]:\n",
    "    plt.figure(figsize=(8, 6))\n",
    "    sns.boxplot(x=df1[columna])\n",
    "    plt.title(f'Boxplot de {columna}')\n",
    "    plt.xlabel(columna)\n",
    "    plt.show()"
   ]
  },
  {
   "cell_type": "code",
   "execution_count": 228,
   "metadata": {},
   "outputs": [
    {
     "data": {
      "text/plain": [
       "6.016491172196899"
      ]
     },
     "execution_count": 228,
     "metadata": {},
     "output_type": "execute_result"
    }
   ],
   "source": [
    "df1[df1[\"costo_en_dolares_de_los_puntos_canjeados\"]!=0].shape[0]/df1.shape[0]*100"
   ]
  },
  {
   "cell_type": "code",
   "execution_count": 229,
   "metadata": {},
   "outputs": [
    {
     "data": {
      "text/plain": [
       "93.98350882780309"
      ]
     },
     "execution_count": 229,
     "metadata": {},
     "output_type": "execute_result"
    }
   ],
   "source": [
    "df1[df1[\"costo_en_dolares_de_los_puntos_canjeados\"]==0].shape[0]/df1.shape[0]*100"
   ]
  },
  {
   "cell_type": "markdown",
   "metadata": {},
   "source": [
    "Cerca del 6% realiza coste canjando puntos  --> Analicemos esta media\n",
    "\n",
    "El 94% no causa coste canjeando puntos"
   ]
  },
  {
   "cell_type": "code",
   "execution_count": 230,
   "metadata": {},
   "outputs": [],
   "source": [
    "df_con_gasto = df1[df1[\"costo_en_dolares_de_los_puntos_canjeados\"]!=0]"
   ]
  },
  {
   "cell_type": "code",
   "execution_count": 231,
   "metadata": {},
   "outputs": [
    {
     "data": {
      "text/plain": [
       "count    24181.000000\n",
       "mean        41.676275\n",
       "std          9.736304\n",
       "min         24.000000\n",
       "25%         34.000000\n",
       "50%         41.000000\n",
       "75%         48.000000\n",
       "max         71.000000\n",
       "Name: costo_en_dolares_de_los_puntos_canjeados, dtype: float64"
      ]
     },
     "execution_count": 231,
     "metadata": {},
     "output_type": "execute_result"
    }
   ],
   "source": [
    "df_con_gasto[\"costo_en_dolares_de_los_puntos_canjeados\"].describe()"
   ]
  },
  {
   "cell_type": "code",
   "execution_count": 232,
   "metadata": {},
   "outputs": [
    {
     "data": {
      "image/png": "[encoded data removed]",
      "text/plain": [
       "<Figure size 576x432 with 1 Axes>"
      ]
     },
     "metadata": {
      "needs_background": "light"
     },
     "output_type": "display_data"
    }
   ],
   "source": [
    "plt.figure(figsize=(8, 6))\n",
    "sns.boxplot(x = df_con_gasto[\"costo_en_dolares_de_los_puntos_canjeados\"]);\n",
    "plt.title(f\"Coste $ de los puntos canjeados\")\n",
    "# plt.xlabel(columna)\n",
    "plt.show()"
   ]
  },
  {
   "cell_type": "markdown",
   "metadata": {},
   "source": [
    "Esto ya nos deja ver cual es el coste de la gente que canjea puntos. Vamos a comprobar pero debe de estar relacionado con los puntos canjeados"
   ]
  },
  {
   "cell_type": "code",
   "execution_count": 233,
   "metadata": {},
   "outputs": [
    {
     "data": {
      "text/plain": [
       "6.016491172196899"
      ]
     },
     "execution_count": 233,
     "metadata": {},
     "output_type": "execute_result"
    }
   ],
   "source": [
    "df1[df1[\"puntos_canjeados\"]!=0].shape[0]/df1.shape[0]*100"
   ]
  },
  {
   "cell_type": "code",
   "execution_count": 234,
   "metadata": {},
   "outputs": [
    {
     "data": {
      "image/png": "[encoded data removed]",
      "text/plain": [
       "<Figure size 576x432 with 1 Axes>"
      ]
     },
     "metadata": {
      "needs_background": "light"
     },
     "output_type": "display_data"
    }
   ],
   "source": [
    "plt.figure(figsize=(8, 6))\n",
    "sns.boxplot(x= df_con_gasto[\"puntos_canjeados\"]);\n",
    "plt.title(f\"Coste $ de los puntos canjeados\")\n",
    "# plt.xlabel(columna)\n",
    "plt.show()"
   ]
  },
  {
   "cell_type": "markdown",
   "metadata": {},
   "source": [
    "Efectivamente parece que esta relacionado "
   ]
  },
  {
   "cell_type": "code",
   "execution_count": 235,
   "metadata": {},
   "outputs": [],
   "source": [
    "numericas = df1.select_dtypes(include = np.number).columns\n",
    "combinaciones = list(combinations(numericas, 2))"
   ]
  },
  {
   "cell_type": "code",
   "execution_count": 236,
   "metadata": {},
   "outputs": [
    {
     "name": "stdout",
     "output_type": "stream",
     "text": [
      "Las variables a las que tengamos que aplicar la correlacion de pearson son: []\n",
      "Las variables a las que tengamos que aplicar la correlacion de spearman son: [('numero_cliente', 'ano'), ('numero_cliente', 'mes'), ('numero_cliente', 'vuelos_reservados'), ('numero_cliente', 'vuelos_con_acompanantes'), ('numero_cliente', 'total_vuelos'), ('numero_cliente', 'distancia'), ('numero_cliente', 'puntos_acumulados'), ('numero_cliente', 'puntos_canjeados'), ('numero_cliente', 'costo_en_dolares_de_los_puntos_canjeados'), ('ano', 'mes'), ('ano', 'vuelos_reservados'), ('ano', 'vuelos_con_acompanantes'), ('ano', 'total_vuelos'), ('ano', 'distancia'), ('ano', 'puntos_acumulados'), ('ano', 'puntos_canjeados'), ('ano', 'costo_en_dolares_de_los_puntos_canjeados'), ('mes', 'vuelos_reservados'), ('mes', 'vuelos_con_acompanantes'), ('mes', 'total_vuelos'), ('mes', 'distancia'), ('mes', 'puntos_acumulados'), ('mes', 'puntos_canjeados'), ('mes', 'costo_en_dolares_de_los_puntos_canjeados'), ('vuelos_reservados', 'vuelos_con_acompanantes'), ('vuelos_reservados', 'total_vuelos'), ('vuelos_reservados', 'distancia'), ('vuelos_reservados', 'puntos_acumulados'), ('vuelos_reservados', 'puntos_canjeados'), ('vuelos_reservados', 'costo_en_dolares_de_los_puntos_canjeados'), ('vuelos_con_acompanantes', 'total_vuelos'), ('vuelos_con_acompanantes', 'distancia'), ('vuelos_con_acompanantes', 'puntos_acumulados'), ('vuelos_con_acompanantes', 'puntos_canjeados'), ('vuelos_con_acompanantes', 'costo_en_dolares_de_los_puntos_canjeados'), ('total_vuelos', 'distancia'), ('total_vuelos', 'puntos_acumulados'), ('total_vuelos', 'puntos_canjeados'), ('total_vuelos', 'costo_en_dolares_de_los_puntos_canjeados'), ('distancia', 'puntos_acumulados'), ('distancia', 'puntos_canjeados'), ('distancia', 'costo_en_dolares_de_los_puntos_canjeados'), ('puntos_acumulados', 'puntos_canjeados'), ('puntos_acumulados', 'costo_en_dolares_de_los_puntos_canjeados'), ('puntos_canjeados', 'costo_en_dolares_de_los_puntos_canjeados')]\n"
     ]
    }
   ],
   "source": [
    "# creamos una función para identificar si las relaciones entre las variables son lienales o no\n",
    "def identificar_linealidad (dataframe, lista_combinacion_columnas):\n",
    "    \"\"\"\n",
    "    Identifica si las relaciones entre pares de variables en un DataFrame son lineales o no.\n",
    "\n",
    "    Parameters:\n",
    "    -----------\n",
    "    dataframe : pandas.DataFrame\n",
    "        El DataFrame que contiene las variables a analizar.\n",
    "\n",
    "    lista_combinacion_columnas : list of tuples\n",
    "        Una lista de tuplas donde cada tupla contiene dos nombres de columnas del DataFrame que se desea analizar.\n",
    "\n",
    "    Returns:\n",
    "    --------\n",
    "    relaciones_lineales : list of tuples\n",
    "        Una lista de tuplas que contienen los nombres de las columnas que tienen una relación lineal.\n",
    "\n",
    "    relaciones_no_lineales : list of tuples\n",
    "        Una lista de tuplas que contienen los nombres de las columnas que no tienen una relación lineal.\n",
    "\n",
    "    \"\"\"\n",
    "    relaciones_lineales = []\n",
    "    relaciones_no_lineales = []\n",
    "\n",
    "    for tupla in lista_combinacion_columnas: \n",
    "        # Realizar la prueba de normalidad\n",
    "        _, p_value1 = kstest(dataframe[tupla[0]], \"norm\")\n",
    "        _, p_value2 = kstest(dataframe[tupla[1]], \"norm\")\n",
    "\n",
    "        if p_value1 > 0.05 and p_value2 > 0.05:\n",
    "            relaciones_lineales.append(tupla)\n",
    "        else:\n",
    "            relaciones_no_lineales.append(tupla)\n",
    "\n",
    "    return relaciones_lineales, relaciones_no_lineales\n",
    "\n",
    "# llamamos a la funcion\n",
    "\n",
    "lineal, no_lineal = identificar_linealidad(df1, combinaciones)\n",
    "\n",
    "print(f\"Las variables a las que tengamos que aplicar la correlacion de pearson son: {lineal}\")\n",
    "print(f\"Las variables a las que tengamos que aplicar la correlacion de spearman son: {no_lineal}\")"
   ]
  },
  {
   "cell_type": "code",
   "execution_count": 237,
   "metadata": {},
   "outputs": [
    {
     "data": {
      "text/html": [
       "<div>\n",
       "<style scoped>\n",
       "    .dataframe tbody tr th:only-of-type {\n",
       "        vertical-align: middle;\n",
       "    }\n",
       "\n",
       "    .dataframe tbody tr th {\n",
       "        vertical-align: top;\n",
       "    }\n",
       "\n",
       "    .dataframe thead th {\n",
       "        text-align: right;\n",
       "    }\n",
       "</style>\n",
       "<table border=\"1\" class=\"dataframe\">\n",
       "  <thead>\n",
       "    <tr style=\"text-align: right;\">\n",
       "      <th></th>\n",
       "      <th>vuelos_reservados</th>\n",
       "      <th>vuelos_con_acompanantes</th>\n",
       "      <th>total_vuelos</th>\n",
       "      <th>distancia</th>\n",
       "      <th>puntos_acumulados</th>\n",
       "      <th>puntos_canjeados</th>\n",
       "      <th>costo_en_dolares_de_los_puntos_canjeados</th>\n",
       "    </tr>\n",
       "  </thead>\n",
       "  <tbody>\n",
       "    <tr>\n",
       "      <th>vuelos_reservados</th>\n",
       "      <td>1.000000</td>\n",
       "      <td>0.560299</td>\n",
       "      <td>0.987388</td>\n",
       "      <td>0.896666</td>\n",
       "      <td>0.894306</td>\n",
       "      <td>0.221742</td>\n",
       "      <td>0.221742</td>\n",
       "    </tr>\n",
       "    <tr>\n",
       "      <th>vuelos_con_acompanantes</th>\n",
       "      <td>0.560299</td>\n",
       "      <td>1.000000</td>\n",
       "      <td>0.670493</td>\n",
       "      <td>0.580303</td>\n",
       "      <td>0.578156</td>\n",
       "      <td>0.398404</td>\n",
       "      <td>0.398404</td>\n",
       "    </tr>\n",
       "    <tr>\n",
       "      <th>total_vuelos</th>\n",
       "      <td>0.987388</td>\n",
       "      <td>0.670493</td>\n",
       "      <td>1.000000</td>\n",
       "      <td>0.900830</td>\n",
       "      <td>0.898169</td>\n",
       "      <td>0.262851</td>\n",
       "      <td>0.262851</td>\n",
       "    </tr>\n",
       "    <tr>\n",
       "      <th>distancia</th>\n",
       "      <td>0.896666</td>\n",
       "      <td>0.580303</td>\n",
       "      <td>0.900830</td>\n",
       "      <td>1.000000</td>\n",
       "      <td>0.998019</td>\n",
       "      <td>0.237550</td>\n",
       "      <td>0.237549</td>\n",
       "    </tr>\n",
       "    <tr>\n",
       "      <th>puntos_acumulados</th>\n",
       "      <td>0.894306</td>\n",
       "      <td>0.578156</td>\n",
       "      <td>0.898169</td>\n",
       "      <td>0.998019</td>\n",
       "      <td>1.000000</td>\n",
       "      <td>0.237484</td>\n",
       "      <td>0.237483</td>\n",
       "    </tr>\n",
       "    <tr>\n",
       "      <th>puntos_canjeados</th>\n",
       "      <td>0.221742</td>\n",
       "      <td>0.398404</td>\n",
       "      <td>0.262851</td>\n",
       "      <td>0.237550</td>\n",
       "      <td>0.237484</td>\n",
       "      <td>1.000000</td>\n",
       "      <td>0.999999</td>\n",
       "    </tr>\n",
       "    <tr>\n",
       "      <th>costo_en_dolares_de_los_puntos_canjeados</th>\n",
       "      <td>0.221742</td>\n",
       "      <td>0.398404</td>\n",
       "      <td>0.262851</td>\n",
       "      <td>0.237549</td>\n",
       "      <td>0.237483</td>\n",
       "      <td>0.999999</td>\n",
       "      <td>1.000000</td>\n",
       "    </tr>\n",
       "  </tbody>\n",
       "</table>\n",
       "</div>"
      ],
      "text/plain": [
       "                                          vuelos_reservados  \\\n",
       "vuelos_reservados                                  1.000000   \n",
       "vuelos_con_acompanantes                            0.560299   \n",
       "total_vuelos                                       0.987388   \n",
       "distancia                                          0.896666   \n",
       "puntos_acumulados                                  0.894306   \n",
       "puntos_canjeados                                   0.221742   \n",
       "costo_en_dolares_de_los_puntos_canjeados           0.221742   \n",
       "\n",
       "                                          vuelos_con_acompanantes  \\\n",
       "vuelos_reservados                                        0.560299   \n",
       "vuelos_con_acompanantes                                  1.000000   \n",
       "total_vuelos                                             0.670493   \n",
       "distancia                                                0.580303   \n",
       "puntos_acumulados                                        0.578156   \n",
       "puntos_canjeados                                         0.398404   \n",
       "costo_en_dolares_de_los_puntos_canjeados                 0.398404   \n",
       "\n",
       "                                          total_vuelos  distancia  \\\n",
       "vuelos_reservados                             0.987388   0.896666   \n",
       "vuelos_con_acompanantes                       0.670493   0.580303   \n",
       "total_vuelos                                  1.000000   0.900830   \n",
       "distancia                                     0.900830   1.000000   \n",
       "puntos_acumulados                             0.898169   0.998019   \n",
       "puntos_canjeados                              0.262851   0.237550   \n",
       "costo_en_dolares_de_los_puntos_canjeados      0.262851   0.237549   \n",
       "\n",
       "                                          puntos_acumulados  puntos_canjeados  \\\n",
       "vuelos_reservados                                  0.894306          0.221742   \n",
       "vuelos_con_acompanantes                            0.578156          0.398404   \n",
       "total_vuelos                                       0.898169          0.262851   \n",
       "distancia                                          0.998019          0.237550   \n",
       "puntos_acumulados                                  1.000000          0.237484   \n",
       "puntos_canjeados                                   0.237484          1.000000   \n",
       "costo_en_dolares_de_los_puntos_canjeados           0.237483          0.999999   \n",
       "\n",
       "                                          costo_en_dolares_de_los_puntos_canjeados  \n",
       "vuelos_reservados                                                         0.221742  \n",
       "vuelos_con_acompanantes                                                   0.398404  \n",
       "total_vuelos                                                              0.262851  \n",
       "distancia                                                                 0.237549  \n",
       "puntos_acumulados                                                         0.237483  \n",
       "puntos_canjeados                                                          0.999999  \n",
       "costo_en_dolares_de_los_puntos_canjeados                                  1.000000  "
      ]
     },
     "execution_count": 237,
     "metadata": {},
     "output_type": "execute_result"
    }
   ],
   "source": [
    "df_correlaciones = df1.iloc[:,3:].corr( method = \"spearman\")\n",
    "df_correlaciones"
   ]
  },
  {
   "cell_type": "code",
   "execution_count": 238,
   "metadata": {},
   "outputs": [
    {
     "data": {
      "image/png": "[encoded data removed]",
      "text/plain": [
       "<Figure size 1080x1080 with 2 Axes>"
      ]
     },
     "metadata": {
      "needs_background": "light"
     },
     "output_type": "display_data"
    }
   ],
   "source": [
    "# AHORA YA PODREMOS ENTENDER DE UNA FORMA MÁS AMIGABLE LOS RESULTADOS DE LA MATRIZ DE CORRELACIÓN\n",
    "# establecemos el tamaño de la gráfica\n",
    "plt.figure(figsize = (15, 15))\n",
    "\n",
    "# creamos una matriz booleana de máscara\n",
    "mask = np.triu(np.ones_like(df_correlaciones, dtype=bool))\n",
    "\n",
    "# creamos un heatmap con la máscara\n",
    "sns.heatmap(df_correlaciones, \n",
    "            annot = True, \n",
    "            fmt = \".2f\", \n",
    "            cmap = \"mako\", \n",
    "            vmax = 1, \n",
    "            vmin = -1, \n",
    "            mask = mask); "
   ]
  },
  {
   "cell_type": "code",
   "execution_count": 239,
   "metadata": {},
   "outputs": [
    {
     "data": {
      "text/html": [
       "<div>\n",
       "<style scoped>\n",
       "    .dataframe tbody tr th:only-of-type {\n",
       "        vertical-align: middle;\n",
       "    }\n",
       "\n",
       "    .dataframe tbody tr th {\n",
       "        vertical-align: top;\n",
       "    }\n",
       "\n",
       "    .dataframe thead th {\n",
       "        text-align: right;\n",
       "    }\n",
       "</style>\n",
       "<table border=\"1\" class=\"dataframe\">\n",
       "  <thead>\n",
       "    <tr style=\"text-align: right;\">\n",
       "      <th></th>\n",
       "      <th>distancia</th>\n",
       "      <th>puntos_acumulados</th>\n",
       "    </tr>\n",
       "  </thead>\n",
       "  <tbody>\n",
       "    <tr>\n",
       "      <th>count</th>\n",
       "      <td>401912.000000</td>\n",
       "      <td>401912.000000</td>\n",
       "    </tr>\n",
       "    <tr>\n",
       "      <th>mean</th>\n",
       "      <td>1220.045097</td>\n",
       "      <td>124.835129</td>\n",
       "    </tr>\n",
       "    <tr>\n",
       "      <th>std</th>\n",
       "      <td>1435.019919</td>\n",
       "      <td>146.790294</td>\n",
       "    </tr>\n",
       "    <tr>\n",
       "      <th>min</th>\n",
       "      <td>0.000000</td>\n",
       "      <td>0.000000</td>\n",
       "    </tr>\n",
       "    <tr>\n",
       "      <th>25%</th>\n",
       "      <td>0.000000</td>\n",
       "      <td>0.000000</td>\n",
       "    </tr>\n",
       "    <tr>\n",
       "      <th>50%</th>\n",
       "      <td>555.000000</td>\n",
       "      <td>57.000000</td>\n",
       "    </tr>\n",
       "    <tr>\n",
       "      <th>75%</th>\n",
       "      <td>2352.000000</td>\n",
       "      <td>240.000000</td>\n",
       "    </tr>\n",
       "    <tr>\n",
       "      <th>max</th>\n",
       "      <td>6293.000000</td>\n",
       "      <td>676.500000</td>\n",
       "    </tr>\n",
       "  </tbody>\n",
       "</table>\n",
       "</div>"
      ],
      "text/plain": [
       "           distancia  puntos_acumulados\n",
       "count  401912.000000      401912.000000\n",
       "mean     1220.045097         124.835129\n",
       "std      1435.019919         146.790294\n",
       "min         0.000000           0.000000\n",
       "25%         0.000000           0.000000\n",
       "50%       555.000000          57.000000\n",
       "75%      2352.000000         240.000000\n",
       "max      6293.000000         676.500000"
      ]
     },
     "execution_count": 239,
     "metadata": {},
     "output_type": "execute_result"
    }
   ],
   "source": [
    "df1[['distancia', 'puntos_acumulados']].describe()"
   ]
  },
  {
   "cell_type": "code",
   "execution_count": 240,
   "metadata": {},
   "outputs": [
    {
     "ename": "NameError",
     "evalue": "name 'df' is not defined",
     "output_type": "error",
     "traceback": [
      "\u001b[0;31m---------------------------------------------------------------------------\u001b[0m",
      "\u001b[0;31mNameError\u001b[0m                                 Traceback (most recent call last)",
      "Input \u001b[0;32mIn [240]\u001b[0m, in \u001b[0;36m<cell line: 2>\u001b[0;34m()\u001b[0m\n\u001b[1;32m      1\u001b[0m plt\u001b[38;5;241m.\u001b[39mfigure(figsize\u001b[38;5;241m=\u001b[39m(\u001b[38;5;241m20\u001b[39m, \u001b[38;5;241m10\u001b[39m))\n\u001b[1;32m      2\u001b[0m sns\u001b[38;5;241m.\u001b[39mscatterplot(x \u001b[38;5;241m=\u001b[39m \u001b[38;5;124m\"\u001b[39m\u001b[38;5;124mdistancia\u001b[39m\u001b[38;5;124m\"\u001b[39m, \n\u001b[1;32m      3\u001b[0m                 y \u001b[38;5;241m=\u001b[39m \u001b[38;5;124m\"\u001b[39m\u001b[38;5;124mpuntos_acumulados\u001b[39m\u001b[38;5;124m\"\u001b[39m, \n\u001b[0;32m----> 4\u001b[0m                 data \u001b[38;5;241m=\u001b[39m \u001b[43mdf\u001b[49m,\n\u001b[1;32m      5\u001b[0m                 hue \u001b[38;5;241m=\u001b[39m \u001b[38;5;124m\"\u001b[39m\u001b[38;5;124mtarjeta_lealtad\u001b[39m\u001b[38;5;124m\"\u001b[39m,\n\u001b[1;32m      6\u001b[0m                 color \u001b[38;5;241m=\u001b[39m \u001b[38;5;124m\"\u001b[39m\u001b[38;5;124mblue\u001b[39m\u001b[38;5;124m\"\u001b[39m)\n\u001b[1;32m      7\u001b[0m sns\u001b[38;5;241m.\u001b[39mregplot(x\u001b[38;5;241m=\u001b[39m\u001b[38;5;124m'\u001b[39m\u001b[38;5;124mdistancia\u001b[39m\u001b[38;5;124m'\u001b[39m, y\u001b[38;5;241m=\u001b[39m\u001b[38;5;124m'\u001b[39m\u001b[38;5;124mpuntos_acumulados\u001b[39m\u001b[38;5;124m'\u001b[39m, data\u001b[38;5;241m=\u001b[39mdf1, scatter\u001b[38;5;241m=\u001b[39m\u001b[38;5;28;01mFalse\u001b[39;00m, color\u001b[38;5;241m=\u001b[39m\u001b[38;5;124m'\u001b[39m\u001b[38;5;124mred\u001b[39m\u001b[38;5;124m'\u001b[39m, line_kws\u001b[38;5;241m=\u001b[39m{\u001b[38;5;124m'\u001b[39m\u001b[38;5;124mlinestyle\u001b[39m\u001b[38;5;124m'\u001b[39m: \u001b[38;5;124m'\u001b[39m\u001b[38;5;124m--\u001b[39m\u001b[38;5;124m'\u001b[39m})\n",
      "\u001b[0;31mNameError\u001b[0m: name 'df' is not defined"
     ]
    },
    {
     "data": {
      "text/plain": [
       "<Figure size 1440x720 with 0 Axes>"
      ]
     },
     "metadata": {},
     "output_type": "display_data"
    }
   ],
   "source": [
    "plt.figure(figsize=(20, 10))\n",
    "sns.scatterplot(x = \"distancia\", \n",
    "                y = \"puntos_acumulados\", \n",
    "                data = df,\n",
    "                hue = \"tarjeta_lealtad\",\n",
    "                color = \"blue\")\n",
    "sns.regplot(x='distancia', y='puntos_acumulados', data=df1, scatter=False, color='red', line_kws={'linestyle': '--'})"
   ]
  },
  {
   "cell_type": "markdown",
   "metadata": {},
   "source": [
    "1. **Correlación Débil**:\n",
    "\n",
    "   - El valor absoluto del coeficiente de correlación está cerca de 0.\n",
    "\n",
    "   - Por lo general, se considera una correlación débil si el valor absoluto está por debajo de 0.3.\n",
    "\n",
    "   - \n",
    "\n",
    "2. **Correlación Moderada**:\n",
    "\n",
    "   - El valor absoluto del coeficiente de correlación está en el rango de 0.3 a 0.7.\n",
    "\n",
    "   - Se considera una correlación moderada si el valor absoluto está en este rango.\n",
    "\n",
    "3. **Correlación Fuerte**:\n",
    "\n",
    "   - El valor absoluto del coeficiente de correlación es igual o superior a 0.7.\n",
    "\n",
    "   - Se considera una correlación fuerte si el valor absoluto está en este rango."
   ]
  },
  {
   "cell_type": "code",
   "execution_count": null,
   "metadata": {},
   "outputs": [
    {
     "name": "stdout",
     "output_type": "stream",
     "text": [
      "<class 'pandas.core.frame.DataFrame'>\n",
      "Int64Index: 401912 entries, 0 to 405623\n",
      "Data columns (total 12 columns):\n",
      " #   Column                                    Non-Null Count   Dtype         \n",
      "---  ------                                    --------------   -----         \n",
      " 0   numero_cliente                            401912 non-null  int64         \n",
      " 1   ano                                       401912 non-null  int64         \n",
      " 2   mes                                       401912 non-null  int64         \n",
      " 3   vuelos_reservados                         401912 non-null  int64         \n",
      " 4   vuelos_con_acompanantes                   401912 non-null  int64         \n",
      " 5   total_vuelos                              401912 non-null  int64         \n",
      " 6   distancia                                 401912 non-null  int64         \n",
      " 7   puntos_acumulados                         401912 non-null  float64       \n",
      " 8   puntos_canjeados                          401912 non-null  int64         \n",
      " 9   costo_en_dolares_de_los_puntos_canjeados  401912 non-null  int64         \n",
      " 10  dia                                       401912 non-null  int64         \n",
      " 11  fecha                                     401912 non-null  datetime64[ns]\n",
      "dtypes: datetime64[ns](1), float64(1), int64(10)\n",
      "memory usage: 39.9 MB\n"
     ]
    }
   ],
   "source": [
    "df1.info()"
   ]
  },
  {
   "cell_type": "code",
   "execution_count": null,
   "metadata": {},
   "outputs": [],
   "source": [
    "df1.to_csv(\"Files/Customer Flight Activity_limpio.csv\", index=False)"
   ]
  }
 ],
 "metadata": {
  "kernelspec": {
   "display_name": "base",
   "language": "python",
   "name": "python3"
  },
  "language_info": {
   "codemirror_mode": {
    "name": "ipython",
    "version": 3
   },
   "file_extension": ".py",
   "mimetype": "text/x-python",
   "name": "python",
   "nbconvert_exporter": "python",
   "pygments_lexer": "ipython3",
   "version": "3.9.12"
  }
 },
 "nbformat": 4,
 "nbformat_minor": 2
}
