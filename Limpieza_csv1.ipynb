{
 "cells": [
  {
   "cell_type": "code",
   "execution_count": 455,
   "metadata": {},
   "outputs": [],
   "source": [
    "# importamos las librerías que necesitamos\n",
    "# Tratamiento de datos\n",
    "# -----------------------------------------------------------------------\n",
    "import pandas as pd\n",
    "import numpy as np\n",
    "\n",
    "# Imputación de nulos usando métodos avanzados estadísticos\n",
    "# -----------------------------------------------------------------------\n",
    "from sklearn.impute import SimpleImputer\n",
    "from sklearn.experimental import enable_iterative_imputer\n",
    "from sklearn.impute import IterativeImputer\n",
    "from sklearn.impute import KNNImputer\n",
    "\n",
    "# Librerías de visualización\n",
    "# -----------------------------------------------------------------------\n",
    "import seaborn as sns\n",
    "import matplotlib.pyplot as plt\n",
    "\n",
    "# Configuración\n",
    "# -----------------------------------------------------------------------\n",
    "pd.set_option('display.max_columns', None) # para poder visualizar todas las columnas de los DataFrames\n",
    "\n",
    "# Evaluar linealidad de las relaciones entre las variables\n",
    "# ------------------------------------------------------------------------------\n",
    "from scipy.stats import shapiro, kstest\n",
    "from itertools import combinations\n",
    "\n",
    "# Gestión de los warnings\n",
    "# -----------------------------------------------------------------------\n",
    "import warnings\n",
    "warnings.filterwarnings(\"ignore\")"
   ]
  },
  {
   "cell_type": "markdown",
   "metadata": {},
   "source": [
    "## Fase 1: Exploración y Limpieza"
   ]
  },
  {
   "cell_type": "markdown",
   "metadata": {},
   "source": [
    "#### 1. Exploración Inicial:"
   ]
  },
  {
   "cell_type": "markdown",
   "metadata": {},
   "source": [
    "Realiza una exploración inicial de los datos para identificar posibles problemas, como valores nulos, atípicos o datos faltantes en las columnas relevantes.\n",
    "\n",
    "Utiliza funciones de Pandas para obtener información sobre la estructura de los datos, la presencia de valores nulos y estadísticas básicas de las columnas involucradas.\n",
    "\n",
    "Une los dos conjuntos de datos de la forma más eficiente."
   ]
  },
  {
   "cell_type": "markdown",
   "metadata": {},
   "source": [
    "## CSV 1"
   ]
  },
  {
   "cell_type": "code",
   "execution_count": 456,
   "metadata": {},
   "outputs": [
    {
     "data": {
      "text/html": [
       "<div>\n",
       "<style scoped>\n",
       "    .dataframe tbody tr th:only-of-type {\n",
       "        vertical-align: middle;\n",
       "    }\n",
       "\n",
       "    .dataframe tbody tr th {\n",
       "        vertical-align: top;\n",
       "    }\n",
       "\n",
       "    .dataframe thead th {\n",
       "        text-align: right;\n",
       "    }\n",
       "</style>\n",
       "<table border=\"1\" class=\"dataframe\">\n",
       "  <thead>\n",
       "    <tr style=\"text-align: right;\">\n",
       "      <th></th>\n",
       "      <th>Loyalty Number</th>\n",
       "      <th>Year</th>\n",
       "      <th>Month</th>\n",
       "      <th>Flights Booked</th>\n",
       "      <th>Flights with Companions</th>\n",
       "      <th>Total Flights</th>\n",
       "      <th>Distance</th>\n",
       "      <th>Points Accumulated</th>\n",
       "      <th>Points Redeemed</th>\n",
       "      <th>Dollar Cost Points Redeemed</th>\n",
       "    </tr>\n",
       "  </thead>\n",
       "  <tbody>\n",
       "    <tr>\n",
       "      <th>0</th>\n",
       "      <td>100018</td>\n",
       "      <td>2017</td>\n",
       "      <td>1</td>\n",
       "      <td>3</td>\n",
       "      <td>0</td>\n",
       "      <td>3</td>\n",
       "      <td>1521</td>\n",
       "      <td>152.0</td>\n",
       "      <td>0</td>\n",
       "      <td>0</td>\n",
       "    </tr>\n",
       "    <tr>\n",
       "      <th>1</th>\n",
       "      <td>100102</td>\n",
       "      <td>2017</td>\n",
       "      <td>1</td>\n",
       "      <td>10</td>\n",
       "      <td>4</td>\n",
       "      <td>14</td>\n",
       "      <td>2030</td>\n",
       "      <td>203.0</td>\n",
       "      <td>0</td>\n",
       "      <td>0</td>\n",
       "    </tr>\n",
       "    <tr>\n",
       "      <th>2</th>\n",
       "      <td>100140</td>\n",
       "      <td>2017</td>\n",
       "      <td>1</td>\n",
       "      <td>6</td>\n",
       "      <td>0</td>\n",
       "      <td>6</td>\n",
       "      <td>1200</td>\n",
       "      <td>120.0</td>\n",
       "      <td>0</td>\n",
       "      <td>0</td>\n",
       "    </tr>\n",
       "    <tr>\n",
       "      <th>3</th>\n",
       "      <td>100214</td>\n",
       "      <td>2017</td>\n",
       "      <td>1</td>\n",
       "      <td>0</td>\n",
       "      <td>0</td>\n",
       "      <td>0</td>\n",
       "      <td>0</td>\n",
       "      <td>0.0</td>\n",
       "      <td>0</td>\n",
       "      <td>0</td>\n",
       "    </tr>\n",
       "    <tr>\n",
       "      <th>4</th>\n",
       "      <td>100272</td>\n",
       "      <td>2017</td>\n",
       "      <td>1</td>\n",
       "      <td>0</td>\n",
       "      <td>0</td>\n",
       "      <td>0</td>\n",
       "      <td>0</td>\n",
       "      <td>0.0</td>\n",
       "      <td>0</td>\n",
       "      <td>0</td>\n",
       "    </tr>\n",
       "  </tbody>\n",
       "</table>\n",
       "</div>"
      ],
      "text/plain": [
       "   Loyalty Number  Year  Month  Flights Booked  Flights with Companions  \\\n",
       "0          100018  2017      1               3                        0   \n",
       "1          100102  2017      1              10                        4   \n",
       "2          100140  2017      1               6                        0   \n",
       "3          100214  2017      1               0                        0   \n",
       "4          100272  2017      1               0                        0   \n",
       "\n",
       "   Total Flights  Distance  Points Accumulated  Points Redeemed  \\\n",
       "0              3      1521               152.0                0   \n",
       "1             14      2030               203.0                0   \n",
       "2              6      1200               120.0                0   \n",
       "3              0         0                 0.0                0   \n",
       "4              0         0                 0.0                0   \n",
       "\n",
       "   Dollar Cost Points Redeemed  \n",
       "0                            0  \n",
       "1                            0  \n",
       "2                            0  \n",
       "3                            0  \n",
       "4                            0  "
      ]
     },
     "execution_count": 456,
     "metadata": {},
     "output_type": "execute_result"
    }
   ],
   "source": [
    "# Leer CSV 1\n",
    "df1 = pd.read_csv(\"Files/Customer Flight Activity.csv\")\n",
    "# Ver las 5 primeras filas\n",
    "df1.head()"
   ]
  },
  {
   "cell_type": "code",
   "execution_count": 457,
   "metadata": {},
   "outputs": [
    {
     "data": {
      "text/html": [
       "<div>\n",
       "<style scoped>\n",
       "    .dataframe tbody tr th:only-of-type {\n",
       "        vertical-align: middle;\n",
       "    }\n",
       "\n",
       "    .dataframe tbody tr th {\n",
       "        vertical-align: top;\n",
       "    }\n",
       "\n",
       "    .dataframe thead th {\n",
       "        text-align: right;\n",
       "    }\n",
       "</style>\n",
       "<table border=\"1\" class=\"dataframe\">\n",
       "  <thead>\n",
       "    <tr style=\"text-align: right;\">\n",
       "      <th></th>\n",
       "      <th>Loyalty Number</th>\n",
       "      <th>Year</th>\n",
       "      <th>Month</th>\n",
       "      <th>Flights Booked</th>\n",
       "      <th>Flights with Companions</th>\n",
       "      <th>Total Flights</th>\n",
       "      <th>Distance</th>\n",
       "      <th>Points Accumulated</th>\n",
       "      <th>Points Redeemed</th>\n",
       "      <th>Dollar Cost Points Redeemed</th>\n",
       "    </tr>\n",
       "  </thead>\n",
       "  <tbody>\n",
       "    <tr>\n",
       "      <th>405619</th>\n",
       "      <td>999902</td>\n",
       "      <td>2018</td>\n",
       "      <td>12</td>\n",
       "      <td>0</td>\n",
       "      <td>0</td>\n",
       "      <td>0</td>\n",
       "      <td>0</td>\n",
       "      <td>0.0</td>\n",
       "      <td>0</td>\n",
       "      <td>0</td>\n",
       "    </tr>\n",
       "    <tr>\n",
       "      <th>405620</th>\n",
       "      <td>999911</td>\n",
       "      <td>2018</td>\n",
       "      <td>12</td>\n",
       "      <td>0</td>\n",
       "      <td>0</td>\n",
       "      <td>0</td>\n",
       "      <td>0</td>\n",
       "      <td>0.0</td>\n",
       "      <td>0</td>\n",
       "      <td>0</td>\n",
       "    </tr>\n",
       "    <tr>\n",
       "      <th>405621</th>\n",
       "      <td>999940</td>\n",
       "      <td>2018</td>\n",
       "      <td>12</td>\n",
       "      <td>3</td>\n",
       "      <td>0</td>\n",
       "      <td>3</td>\n",
       "      <td>1233</td>\n",
       "      <td>123.0</td>\n",
       "      <td>0</td>\n",
       "      <td>0</td>\n",
       "    </tr>\n",
       "    <tr>\n",
       "      <th>405622</th>\n",
       "      <td>999982</td>\n",
       "      <td>2018</td>\n",
       "      <td>12</td>\n",
       "      <td>0</td>\n",
       "      <td>0</td>\n",
       "      <td>0</td>\n",
       "      <td>0</td>\n",
       "      <td>0.0</td>\n",
       "      <td>0</td>\n",
       "      <td>0</td>\n",
       "    </tr>\n",
       "    <tr>\n",
       "      <th>405623</th>\n",
       "      <td>999986</td>\n",
       "      <td>2018</td>\n",
       "      <td>12</td>\n",
       "      <td>0</td>\n",
       "      <td>0</td>\n",
       "      <td>0</td>\n",
       "      <td>0</td>\n",
       "      <td>0.0</td>\n",
       "      <td>0</td>\n",
       "      <td>0</td>\n",
       "    </tr>\n",
       "  </tbody>\n",
       "</table>\n",
       "</div>"
      ],
      "text/plain": [
       "        Loyalty Number  Year  Month  Flights Booked  Flights with Companions  \\\n",
       "405619          999902  2018     12               0                        0   \n",
       "405620          999911  2018     12               0                        0   \n",
       "405621          999940  2018     12               3                        0   \n",
       "405622          999982  2018     12               0                        0   \n",
       "405623          999986  2018     12               0                        0   \n",
       "\n",
       "        Total Flights  Distance  Points Accumulated  Points Redeemed  \\\n",
       "405619              0         0                 0.0                0   \n",
       "405620              0         0                 0.0                0   \n",
       "405621              3      1233               123.0                0   \n",
       "405622              0         0                 0.0                0   \n",
       "405623              0         0                 0.0                0   \n",
       "\n",
       "        Dollar Cost Points Redeemed  \n",
       "405619                            0  \n",
       "405620                            0  \n",
       "405621                            0  \n",
       "405622                            0  \n",
       "405623                            0  "
      ]
     },
     "execution_count": 457,
     "metadata": {},
     "output_type": "execute_result"
    }
   ],
   "source": [
    "# Ver las ultimas 5 filas\n",
    "df1.tail()"
   ]
  },
  {
   "cell_type": "code",
   "execution_count": 458,
   "metadata": {},
   "outputs": [],
   "source": [
    "# Cambiamos los nombres de las columnas al español \n",
    "columnas_traducidas = {\n",
    "    'Loyalty Number': 'numero_cliente',\n",
    "    'Year': 'ano',\n",
    "    'Month': 'mes',\n",
    "    'Flights Booked': 'vuelos_reservados',\n",
    "    'Flights with Companions': 'vuelos_con_acompanantes',\n",
    "    'Total Flights': 'total_vuelos',\n",
    "    'Distance': 'distancia',\n",
    "    'Points Accumulated': 'puntos_acumulados',\n",
    "    'Points Redeemed': 'puntos_canjeados',\n",
    "    'Dollar Cost Points Redeemed': 'costo_en_dolares_de_los_puntos_canjeados'\n",
    "}\n",
    "df1.rename(columns= columnas_traducidas, inplace=True)"
   ]
  },
  {
   "cell_type": "code",
   "execution_count": 459,
   "metadata": {},
   "outputs": [
    {
     "data": {
      "text/plain": [
       "(405624, 10)"
      ]
     },
     "execution_count": 459,
     "metadata": {},
     "output_type": "execute_result"
    }
   ],
   "source": [
    "# Vemos la forma\n",
    "df1.shape"
   ]
  },
  {
   "cell_type": "markdown",
   "metadata": {},
   "source": [
    "Vemos que inicialmente tenemos 405624 filas y 10 columnas"
   ]
  },
  {
   "cell_type": "code",
   "execution_count": 460,
   "metadata": {},
   "outputs": [
    {
     "name": "stdout",
     "output_type": "stream",
     "text": [
      "<class 'pandas.core.frame.DataFrame'>\n",
      "RangeIndex: 405624 entries, 0 to 405623\n",
      "Data columns (total 10 columns):\n",
      " #   Column                                    Non-Null Count   Dtype  \n",
      "---  ------                                    --------------   -----  \n",
      " 0   numero_cliente                            405624 non-null  int64  \n",
      " 1   ano                                       405624 non-null  int64  \n",
      " 2   mes                                       405624 non-null  int64  \n",
      " 3   vuelos_reservados                         405624 non-null  int64  \n",
      " 4   vuelos_con_acompanantes                   405624 non-null  int64  \n",
      " 5   total_vuelos                              405624 non-null  int64  \n",
      " 6   distancia                                 405624 non-null  int64  \n",
      " 7   puntos_acumulados                         405624 non-null  float64\n",
      " 8   puntos_canjeados                          405624 non-null  int64  \n",
      " 9   costo_en_dolares_de_los_puntos_canjeados  405624 non-null  int64  \n",
      "dtypes: float64(1), int64(9)\n",
      "memory usage: 30.9 MB\n"
     ]
    }
   ],
   "source": [
    "# Informacion del df\n",
    "df1.info()"
   ]
  },
  {
   "cell_type": "markdown",
   "metadata": {},
   "source": [
    "Todos los datos son númericos. -->  Se valorará cambiar la columna año y mes a formato fecha."
   ]
  },
  {
   "cell_type": "code",
   "execution_count": 461,
   "metadata": {},
   "outputs": [
    {
     "data": {
      "text/plain": [
       "numero_cliente                              0\n",
       "ano                                         0\n",
       "mes                                         0\n",
       "vuelos_reservados                           0\n",
       "vuelos_con_acompanantes                     0\n",
       "total_vuelos                                0\n",
       "distancia                                   0\n",
       "puntos_acumulados                           0\n",
       "puntos_canjeados                            0\n",
       "costo_en_dolares_de_los_puntos_canjeados    0\n",
       "dtype: int64"
      ]
     },
     "execution_count": 461,
     "metadata": {},
     "output_type": "execute_result"
    }
   ],
   "source": [
    "# Sumamos los nulos por columnas\n",
    "df1.isna().sum()"
   ]
  },
  {
   "cell_type": "markdown",
   "metadata": {},
   "source": [
    "No hay nulos en ninguna columna "
   ]
  },
  {
   "cell_type": "code",
   "execution_count": 462,
   "metadata": {},
   "outputs": [
    {
     "data": {
      "text/html": [
       "<div>\n",
       "<style scoped>\n",
       "    .dataframe tbody tr th:only-of-type {\n",
       "        vertical-align: middle;\n",
       "    }\n",
       "\n",
       "    .dataframe tbody tr th {\n",
       "        vertical-align: top;\n",
       "    }\n",
       "\n",
       "    .dataframe thead th {\n",
       "        text-align: right;\n",
       "    }\n",
       "</style>\n",
       "<table border=\"1\" class=\"dataframe\">\n",
       "  <thead>\n",
       "    <tr style=\"text-align: right;\">\n",
       "      <th></th>\n",
       "      <th>numero_cliente</th>\n",
       "      <th>ano</th>\n",
       "      <th>mes</th>\n",
       "      <th>vuelos_reservados</th>\n",
       "      <th>vuelos_con_acompanantes</th>\n",
       "      <th>total_vuelos</th>\n",
       "      <th>distancia</th>\n",
       "      <th>puntos_acumulados</th>\n",
       "      <th>puntos_canjeados</th>\n",
       "      <th>costo_en_dolares_de_los_puntos_canjeados</th>\n",
       "    </tr>\n",
       "  </thead>\n",
       "  <tbody>\n",
       "    <tr>\n",
       "      <th>count</th>\n",
       "      <td>405624.000000</td>\n",
       "      <td>405624.000000</td>\n",
       "      <td>405624.000000</td>\n",
       "      <td>405624.000000</td>\n",
       "      <td>405624.000000</td>\n",
       "      <td>405624.000000</td>\n",
       "      <td>405624.000000</td>\n",
       "      <td>405624.000000</td>\n",
       "      <td>405624.000000</td>\n",
       "      <td>405624.000000</td>\n",
       "    </tr>\n",
       "    <tr>\n",
       "      <th>mean</th>\n",
       "      <td>550037.873084</td>\n",
       "      <td>2017.500000</td>\n",
       "      <td>6.500000</td>\n",
       "      <td>4.115052</td>\n",
       "      <td>1.031805</td>\n",
       "      <td>5.146858</td>\n",
       "      <td>1208.880059</td>\n",
       "      <td>123.692721</td>\n",
       "      <td>30.696872</td>\n",
       "      <td>2.484503</td>\n",
       "    </tr>\n",
       "    <tr>\n",
       "      <th>std</th>\n",
       "      <td>258935.286969</td>\n",
       "      <td>0.500001</td>\n",
       "      <td>3.452057</td>\n",
       "      <td>5.225518</td>\n",
       "      <td>2.076869</td>\n",
       "      <td>6.521227</td>\n",
       "      <td>1433.155320</td>\n",
       "      <td>146.599831</td>\n",
       "      <td>125.486049</td>\n",
       "      <td>10.150038</td>\n",
       "    </tr>\n",
       "    <tr>\n",
       "      <th>min</th>\n",
       "      <td>100018.000000</td>\n",
       "      <td>2017.000000</td>\n",
       "      <td>1.000000</td>\n",
       "      <td>0.000000</td>\n",
       "      <td>0.000000</td>\n",
       "      <td>0.000000</td>\n",
       "      <td>0.000000</td>\n",
       "      <td>0.000000</td>\n",
       "      <td>0.000000</td>\n",
       "      <td>0.000000</td>\n",
       "    </tr>\n",
       "    <tr>\n",
       "      <th>25%</th>\n",
       "      <td>326961.000000</td>\n",
       "      <td>2017.000000</td>\n",
       "      <td>3.750000</td>\n",
       "      <td>0.000000</td>\n",
       "      <td>0.000000</td>\n",
       "      <td>0.000000</td>\n",
       "      <td>0.000000</td>\n",
       "      <td>0.000000</td>\n",
       "      <td>0.000000</td>\n",
       "      <td>0.000000</td>\n",
       "    </tr>\n",
       "    <tr>\n",
       "      <th>50%</th>\n",
       "      <td>550834.000000</td>\n",
       "      <td>2017.500000</td>\n",
       "      <td>6.500000</td>\n",
       "      <td>1.000000</td>\n",
       "      <td>0.000000</td>\n",
       "      <td>1.000000</td>\n",
       "      <td>488.000000</td>\n",
       "      <td>50.000000</td>\n",
       "      <td>0.000000</td>\n",
       "      <td>0.000000</td>\n",
       "    </tr>\n",
       "    <tr>\n",
       "      <th>75%</th>\n",
       "      <td>772194.000000</td>\n",
       "      <td>2018.000000</td>\n",
       "      <td>9.250000</td>\n",
       "      <td>8.000000</td>\n",
       "      <td>1.000000</td>\n",
       "      <td>10.000000</td>\n",
       "      <td>2336.000000</td>\n",
       "      <td>239.000000</td>\n",
       "      <td>0.000000</td>\n",
       "      <td>0.000000</td>\n",
       "    </tr>\n",
       "    <tr>\n",
       "      <th>max</th>\n",
       "      <td>999986.000000</td>\n",
       "      <td>2018.000000</td>\n",
       "      <td>12.000000</td>\n",
       "      <td>21.000000</td>\n",
       "      <td>11.000000</td>\n",
       "      <td>32.000000</td>\n",
       "      <td>6293.000000</td>\n",
       "      <td>676.500000</td>\n",
       "      <td>876.000000</td>\n",
       "      <td>71.000000</td>\n",
       "    </tr>\n",
       "  </tbody>\n",
       "</table>\n",
       "</div>"
      ],
      "text/plain": [
       "       numero_cliente            ano            mes  vuelos_reservados  \\\n",
       "count   405624.000000  405624.000000  405624.000000      405624.000000   \n",
       "mean    550037.873084    2017.500000       6.500000           4.115052   \n",
       "std     258935.286969       0.500001       3.452057           5.225518   \n",
       "min     100018.000000    2017.000000       1.000000           0.000000   \n",
       "25%     326961.000000    2017.000000       3.750000           0.000000   \n",
       "50%     550834.000000    2017.500000       6.500000           1.000000   \n",
       "75%     772194.000000    2018.000000       9.250000           8.000000   \n",
       "max     999986.000000    2018.000000      12.000000          21.000000   \n",
       "\n",
       "       vuelos_con_acompanantes   total_vuelos      distancia  \\\n",
       "count            405624.000000  405624.000000  405624.000000   \n",
       "mean                  1.031805       5.146858    1208.880059   \n",
       "std                   2.076869       6.521227    1433.155320   \n",
       "min                   0.000000       0.000000       0.000000   \n",
       "25%                   0.000000       0.000000       0.000000   \n",
       "50%                   0.000000       1.000000     488.000000   \n",
       "75%                   1.000000      10.000000    2336.000000   \n",
       "max                  11.000000      32.000000    6293.000000   \n",
       "\n",
       "       puntos_acumulados  puntos_canjeados  \\\n",
       "count      405624.000000     405624.000000   \n",
       "mean          123.692721         30.696872   \n",
       "std           146.599831        125.486049   \n",
       "min             0.000000          0.000000   \n",
       "25%             0.000000          0.000000   \n",
       "50%            50.000000          0.000000   \n",
       "75%           239.000000          0.000000   \n",
       "max           676.500000        876.000000   \n",
       "\n",
       "       costo_en_dolares_de_los_puntos_canjeados  \n",
       "count                             405624.000000  \n",
       "mean                                   2.484503  \n",
       "std                                   10.150038  \n",
       "min                                    0.000000  \n",
       "25%                                    0.000000  \n",
       "50%                                    0.000000  \n",
       "75%                                    0.000000  \n",
       "max                                   71.000000  "
      ]
     },
     "execution_count": 462,
     "metadata": {},
     "output_type": "execute_result"
    }
   ],
   "source": [
    "# calculamos estadisticos de las variables numericas\n",
    "df1.describe()"
   ]
  },
  {
   "cell_type": "markdown",
   "metadata": {},
   "source": [
    "Podemos ver que los datos son desde de enero del 2017 a diciembre del 2018.\n",
    "\n",
    "Vemos valores atipicos que pueden estar afectando a las medias.Hay una desviacion estandar alta."
   ]
  },
  {
   "cell_type": "code",
   "execution_count": 463,
   "metadata": {},
   "outputs": [
    {
     "data": {
      "image/png": "[encoded data removed]",
      "text/plain": [
       "<Figure size 576x432 with 1 Axes>"
      ]
     },
     "metadata": {
      "needs_background": "light"
     },
     "output_type": "display_data"
    },
    {
     "data": {
      "image/png": "[encoded data removed]",
      "text/plain": [
       "<Figure size 576x432 with 1 Axes>"
      ]
     },
     "metadata": {
      "needs_background": "light"
     },
     "output_type": "display_data"
    },
    {
     "data": {
      "image/png": "[encoded data removed]",
      "text/plain": [
       "<Figure size 576x432 with 1 Axes>"
      ]
     },
     "metadata": {
      "needs_background": "light"
     },
     "output_type": "display_data"
    },
    {
     "data": {
      "image/png": "[encoded data removed]",
      "text/plain": [
       "<Figure size 576x432 with 1 Axes>"
      ]
     },
     "metadata": {
      "needs_background": "light"
     },
     "output_type": "display_data"
    },
    {
     "data": {
      "image/png": "[encoded data removed]",
      "text/plain": [
       "<Figure size 576x432 with 1 Axes>"
      ]
     },
     "metadata": {
      "needs_background": "light"
     },
     "output_type": "display_data"
    },
    {
     "data": {
      "image/png": "[encoded data removed]",
      "text/plain": [
       "<Figure size 576x432 with 1 Axes>"
      ]
     },
     "metadata": {
      "needs_background": "light"
     },
     "output_type": "display_data"
    },
    {
     "data": {
      "image/png": "[encoded data removed]",
      "text/plain": [
       "<Figure size 576x432 with 1 Axes>"
      ]
     },
     "metadata": {
      "needs_background": "light"
     },
     "output_type": "display_data"
    }
   ],
   "source": [
    "# vemos la distribucion en graficas\n",
    "for columna in df1.iloc[:,3:]:\n",
    "    plt.figure(figsize=(8, 6))\n",
    "    sns.boxplot(x=df1[columna])\n",
    "    plt.title(f'Boxplot de {columna}')\n",
    "    plt.xlabel(columna)\n",
    "    plt.show()"
   ]
  },
  {
   "cell_type": "code",
   "execution_count": 464,
   "metadata": {},
   "outputs": [
    {
     "data": {
      "text/plain": [
       "1864"
      ]
     },
     "execution_count": 464,
     "metadata": {},
     "output_type": "execute_result"
    }
   ],
   "source": [
    "# sumamos filas duplicadas\n",
    "df1.duplicated().sum()"
   ]
  },
  {
   "cell_type": "markdown",
   "metadata": {},
   "source": [
    "Tenemos valores duplicados en las filas, vamos a verlos para decidir que hacer con ellos"
   ]
  },
  {
   "cell_type": "code",
   "execution_count": 465,
   "metadata": {},
   "outputs": [
    {
     "data": {
      "text/plain": [
       "16737"
      ]
     },
     "execution_count": 465,
     "metadata": {},
     "output_type": "execute_result"
    }
   ],
   "source": [
    "# cuantos numeros de clientes tenemos unicos\n",
    "df1[\"numero_cliente\"].nunique()"
   ]
  },
  {
   "cell_type": "markdown",
   "metadata": {},
   "source": [
    "16737 valores unicos de clientes"
   ]
  },
  {
   "cell_type": "code",
   "execution_count": 466,
   "metadata": {},
   "outputs": [
    {
     "data": {
      "text/html": [
       "<div>\n",
       "<style scoped>\n",
       "    .dataframe tbody tr th:only-of-type {\n",
       "        vertical-align: middle;\n",
       "    }\n",
       "\n",
       "    .dataframe tbody tr th {\n",
       "        vertical-align: top;\n",
       "    }\n",
       "\n",
       "    .dataframe thead th {\n",
       "        text-align: right;\n",
       "    }\n",
       "</style>\n",
       "<table border=\"1\" class=\"dataframe\">\n",
       "  <thead>\n",
       "    <tr style=\"text-align: right;\">\n",
       "      <th></th>\n",
       "      <th>numero_cliente</th>\n",
       "      <th>ano</th>\n",
       "      <th>mes</th>\n",
       "      <th>vuelos_reservados</th>\n",
       "      <th>vuelos_con_acompanantes</th>\n",
       "      <th>total_vuelos</th>\n",
       "      <th>distancia</th>\n",
       "      <th>puntos_acumulados</th>\n",
       "      <th>puntos_canjeados</th>\n",
       "      <th>costo_en_dolares_de_los_puntos_canjeados</th>\n",
       "    </tr>\n",
       "  </thead>\n",
       "  <tbody>\n",
       "    <tr>\n",
       "      <th>41</th>\n",
       "      <td>101902</td>\n",
       "      <td>2017</td>\n",
       "      <td>1</td>\n",
       "      <td>0</td>\n",
       "      <td>0</td>\n",
       "      <td>0</td>\n",
       "      <td>0</td>\n",
       "      <td>0.0</td>\n",
       "      <td>0</td>\n",
       "      <td>0</td>\n",
       "    </tr>\n",
       "    <tr>\n",
       "      <th>42</th>\n",
       "      <td>101902</td>\n",
       "      <td>2017</td>\n",
       "      <td>1</td>\n",
       "      <td>0</td>\n",
       "      <td>0</td>\n",
       "      <td>0</td>\n",
       "      <td>0</td>\n",
       "      <td>0.0</td>\n",
       "      <td>0</td>\n",
       "      <td>0</td>\n",
       "    </tr>\n",
       "    <tr>\n",
       "      <th>16942</th>\n",
       "      <td>101902</td>\n",
       "      <td>2017</td>\n",
       "      <td>2</td>\n",
       "      <td>0</td>\n",
       "      <td>0</td>\n",
       "      <td>0</td>\n",
       "      <td>0</td>\n",
       "      <td>0.0</td>\n",
       "      <td>0</td>\n",
       "      <td>0</td>\n",
       "    </tr>\n",
       "    <tr>\n",
       "      <th>16943</th>\n",
       "      <td>101902</td>\n",
       "      <td>2017</td>\n",
       "      <td>2</td>\n",
       "      <td>0</td>\n",
       "      <td>0</td>\n",
       "      <td>0</td>\n",
       "      <td>0</td>\n",
       "      <td>0.0</td>\n",
       "      <td>0</td>\n",
       "      <td>0</td>\n",
       "    </tr>\n",
       "    <tr>\n",
       "      <th>33843</th>\n",
       "      <td>101902</td>\n",
       "      <td>2017</td>\n",
       "      <td>3</td>\n",
       "      <td>0</td>\n",
       "      <td>0</td>\n",
       "      <td>0</td>\n",
       "      <td>0</td>\n",
       "      <td>0.0</td>\n",
       "      <td>0</td>\n",
       "      <td>0</td>\n",
       "    </tr>\n",
       "    <tr>\n",
       "      <th>33844</th>\n",
       "      <td>101902</td>\n",
       "      <td>2017</td>\n",
       "      <td>3</td>\n",
       "      <td>0</td>\n",
       "      <td>0</td>\n",
       "      <td>0</td>\n",
       "      <td>0</td>\n",
       "      <td>0.0</td>\n",
       "      <td>0</td>\n",
       "      <td>0</td>\n",
       "    </tr>\n",
       "    <tr>\n",
       "      <th>101447</th>\n",
       "      <td>101902</td>\n",
       "      <td>2017</td>\n",
       "      <td>7</td>\n",
       "      <td>0</td>\n",
       "      <td>0</td>\n",
       "      <td>0</td>\n",
       "      <td>0</td>\n",
       "      <td>0.0</td>\n",
       "      <td>0</td>\n",
       "      <td>0</td>\n",
       "    </tr>\n",
       "    <tr>\n",
       "      <th>101448</th>\n",
       "      <td>101902</td>\n",
       "      <td>2017</td>\n",
       "      <td>7</td>\n",
       "      <td>0</td>\n",
       "      <td>0</td>\n",
       "      <td>0</td>\n",
       "      <td>0</td>\n",
       "      <td>0.0</td>\n",
       "      <td>0</td>\n",
       "      <td>0</td>\n",
       "    </tr>\n",
       "    <tr>\n",
       "      <th>185952</th>\n",
       "      <td>101902</td>\n",
       "      <td>2017</td>\n",
       "      <td>12</td>\n",
       "      <td>0</td>\n",
       "      <td>0</td>\n",
       "      <td>0</td>\n",
       "      <td>0</td>\n",
       "      <td>0.0</td>\n",
       "      <td>0</td>\n",
       "      <td>0</td>\n",
       "    </tr>\n",
       "    <tr>\n",
       "      <th>185953</th>\n",
       "      <td>101902</td>\n",
       "      <td>2017</td>\n",
       "      <td>12</td>\n",
       "      <td>0</td>\n",
       "      <td>0</td>\n",
       "      <td>0</td>\n",
       "      <td>0</td>\n",
       "      <td>0.0</td>\n",
       "      <td>0</td>\n",
       "      <td>0</td>\n",
       "    </tr>\n",
       "    <tr>\n",
       "      <th>287431</th>\n",
       "      <td>106001</td>\n",
       "      <td>2018</td>\n",
       "      <td>6</td>\n",
       "      <td>0</td>\n",
       "      <td>0</td>\n",
       "      <td>0</td>\n",
       "      <td>0</td>\n",
       "      <td>0.0</td>\n",
       "      <td>0</td>\n",
       "      <td>0</td>\n",
       "    </tr>\n",
       "    <tr>\n",
       "      <th>287432</th>\n",
       "      <td>106001</td>\n",
       "      <td>2018</td>\n",
       "      <td>6</td>\n",
       "      <td>0</td>\n",
       "      <td>0</td>\n",
       "      <td>0</td>\n",
       "      <td>0</td>\n",
       "      <td>0.0</td>\n",
       "      <td>0</td>\n",
       "      <td>0</td>\n",
       "    </tr>\n",
       "    <tr>\n",
       "      <th>1334</th>\n",
       "      <td>106509</td>\n",
       "      <td>2017</td>\n",
       "      <td>1</td>\n",
       "      <td>0</td>\n",
       "      <td>0</td>\n",
       "      <td>0</td>\n",
       "      <td>0</td>\n",
       "      <td>0.0</td>\n",
       "      <td>0</td>\n",
       "      <td>0</td>\n",
       "    </tr>\n",
       "    <tr>\n",
       "      <th>1336</th>\n",
       "      <td>106509</td>\n",
       "      <td>2017</td>\n",
       "      <td>1</td>\n",
       "      <td>0</td>\n",
       "      <td>0</td>\n",
       "      <td>0</td>\n",
       "      <td>0</td>\n",
       "      <td>0.0</td>\n",
       "      <td>0</td>\n",
       "      <td>0</td>\n",
       "    </tr>\n",
       "    <tr>\n",
       "      <th>1339</th>\n",
       "      <td>106509</td>\n",
       "      <td>2017</td>\n",
       "      <td>2</td>\n",
       "      <td>0</td>\n",
       "      <td>0</td>\n",
       "      <td>0</td>\n",
       "      <td>0</td>\n",
       "      <td>0.0</td>\n",
       "      <td>0</td>\n",
       "      <td>0</td>\n",
       "    </tr>\n",
       "  </tbody>\n",
       "</table>\n",
       "</div>"
      ],
      "text/plain": [
       "        numero_cliente   ano  mes  vuelos_reservados  vuelos_con_acompanantes  \\\n",
       "41              101902  2017    1                  0                        0   \n",
       "42              101902  2017    1                  0                        0   \n",
       "16942           101902  2017    2                  0                        0   \n",
       "16943           101902  2017    2                  0                        0   \n",
       "33843           101902  2017    3                  0                        0   \n",
       "33844           101902  2017    3                  0                        0   \n",
       "101447          101902  2017    7                  0                        0   \n",
       "101448          101902  2017    7                  0                        0   \n",
       "185952          101902  2017   12                  0                        0   \n",
       "185953          101902  2017   12                  0                        0   \n",
       "287431          106001  2018    6                  0                        0   \n",
       "287432          106001  2018    6                  0                        0   \n",
       "1334            106509  2017    1                  0                        0   \n",
       "1336            106509  2017    1                  0                        0   \n",
       "1339            106509  2017    2                  0                        0   \n",
       "\n",
       "        total_vuelos  distancia  puntos_acumulados  puntos_canjeados  \\\n",
       "41                 0          0                0.0                 0   \n",
       "42                 0          0                0.0                 0   \n",
       "16942              0          0                0.0                 0   \n",
       "16943              0          0                0.0                 0   \n",
       "33843              0          0                0.0                 0   \n",
       "33844              0          0                0.0                 0   \n",
       "101447             0          0                0.0                 0   \n",
       "101448             0          0                0.0                 0   \n",
       "185952             0          0                0.0                 0   \n",
       "185953             0          0                0.0                 0   \n",
       "287431             0          0                0.0                 0   \n",
       "287432             0          0                0.0                 0   \n",
       "1334               0          0                0.0                 0   \n",
       "1336               0          0                0.0                 0   \n",
       "1339               0          0                0.0                 0   \n",
       "\n",
       "        costo_en_dolares_de_los_puntos_canjeados  \n",
       "41                                             0  \n",
       "42                                             0  \n",
       "16942                                          0  \n",
       "16943                                          0  \n",
       "33843                                          0  \n",
       "33844                                          0  \n",
       "101447                                         0  \n",
       "101448                                         0  \n",
       "185952                                         0  \n",
       "185953                                         0  \n",
       "287431                                         0  \n",
       "287432                                         0  \n",
       "1334                                           0  \n",
       "1336                                           0  \n",
       "1339                                           0  "
      ]
     },
     "execution_count": 466,
     "metadata": {},
     "output_type": "execute_result"
    }
   ],
   "source": [
    "# vamos a ver todos los duplicados ordenando por numero cliente, año y mes\n",
    "df1[df1.duplicated(keep=False)].sort_values(by=[\"numero_cliente\", \"ano\", \"mes\"]).head(15)"
   ]
  },
  {
   "cell_type": "markdown",
   "metadata": {},
   "source": [
    "Hay clientes con duplicados cuando no viaja"
   ]
  },
  {
   "cell_type": "code",
   "execution_count": 467,
   "metadata": {},
   "outputs": [
    {
     "data": {
      "text/html": [
       "<div>\n",
       "<style scoped>\n",
       "    .dataframe tbody tr th:only-of-type {\n",
       "        vertical-align: middle;\n",
       "    }\n",
       "\n",
       "    .dataframe tbody tr th {\n",
       "        vertical-align: top;\n",
       "    }\n",
       "\n",
       "    .dataframe thead th {\n",
       "        text-align: right;\n",
       "    }\n",
       "</style>\n",
       "<table border=\"1\" class=\"dataframe\">\n",
       "  <thead>\n",
       "    <tr style=\"text-align: right;\">\n",
       "      <th></th>\n",
       "      <th>numero_cliente</th>\n",
       "      <th>ano</th>\n",
       "      <th>mes</th>\n",
       "      <th>vuelos_reservados</th>\n",
       "      <th>vuelos_con_acompanantes</th>\n",
       "      <th>total_vuelos</th>\n",
       "      <th>distancia</th>\n",
       "      <th>puntos_acumulados</th>\n",
       "      <th>puntos_canjeados</th>\n",
       "      <th>costo_en_dolares_de_los_puntos_canjeados</th>\n",
       "    </tr>\n",
       "  </thead>\n",
       "  <tbody>\n",
       "    <tr>\n",
       "      <th>41</th>\n",
       "      <td>101902</td>\n",
       "      <td>2017</td>\n",
       "      <td>1</td>\n",
       "      <td>0</td>\n",
       "      <td>0</td>\n",
       "      <td>0</td>\n",
       "      <td>0</td>\n",
       "      <td>0.0</td>\n",
       "      <td>0</td>\n",
       "      <td>0</td>\n",
       "    </tr>\n",
       "    <tr>\n",
       "      <th>42</th>\n",
       "      <td>101902</td>\n",
       "      <td>2017</td>\n",
       "      <td>1</td>\n",
       "      <td>0</td>\n",
       "      <td>0</td>\n",
       "      <td>0</td>\n",
       "      <td>0</td>\n",
       "      <td>0.0</td>\n",
       "      <td>0</td>\n",
       "      <td>0</td>\n",
       "    </tr>\n",
       "    <tr>\n",
       "      <th>16942</th>\n",
       "      <td>101902</td>\n",
       "      <td>2017</td>\n",
       "      <td>2</td>\n",
       "      <td>0</td>\n",
       "      <td>0</td>\n",
       "      <td>0</td>\n",
       "      <td>0</td>\n",
       "      <td>0.0</td>\n",
       "      <td>0</td>\n",
       "      <td>0</td>\n",
       "    </tr>\n",
       "    <tr>\n",
       "      <th>16943</th>\n",
       "      <td>101902</td>\n",
       "      <td>2017</td>\n",
       "      <td>2</td>\n",
       "      <td>0</td>\n",
       "      <td>0</td>\n",
       "      <td>0</td>\n",
       "      <td>0</td>\n",
       "      <td>0.0</td>\n",
       "      <td>0</td>\n",
       "      <td>0</td>\n",
       "    </tr>\n",
       "    <tr>\n",
       "      <th>33843</th>\n",
       "      <td>101902</td>\n",
       "      <td>2017</td>\n",
       "      <td>3</td>\n",
       "      <td>0</td>\n",
       "      <td>0</td>\n",
       "      <td>0</td>\n",
       "      <td>0</td>\n",
       "      <td>0.0</td>\n",
       "      <td>0</td>\n",
       "      <td>0</td>\n",
       "    </tr>\n",
       "    <tr>\n",
       "      <th>33844</th>\n",
       "      <td>101902</td>\n",
       "      <td>2017</td>\n",
       "      <td>3</td>\n",
       "      <td>0</td>\n",
       "      <td>0</td>\n",
       "      <td>0</td>\n",
       "      <td>0</td>\n",
       "      <td>0.0</td>\n",
       "      <td>0</td>\n",
       "      <td>0</td>\n",
       "    </tr>\n",
       "    <tr>\n",
       "      <th>50744</th>\n",
       "      <td>101902</td>\n",
       "      <td>2017</td>\n",
       "      <td>4</td>\n",
       "      <td>4</td>\n",
       "      <td>0</td>\n",
       "      <td>4</td>\n",
       "      <td>1460</td>\n",
       "      <td>146.0</td>\n",
       "      <td>0</td>\n",
       "      <td>0</td>\n",
       "    </tr>\n",
       "    <tr>\n",
       "      <th>185796</th>\n",
       "      <td>101902</td>\n",
       "      <td>2017</td>\n",
       "      <td>4</td>\n",
       "      <td>4</td>\n",
       "      <td>4</td>\n",
       "      <td>8</td>\n",
       "      <td>2384</td>\n",
       "      <td>238.0</td>\n",
       "      <td>488</td>\n",
       "      <td>40</td>\n",
       "    </tr>\n",
       "    <tr>\n",
       "      <th>67645</th>\n",
       "      <td>101902</td>\n",
       "      <td>2017</td>\n",
       "      <td>5</td>\n",
       "      <td>9</td>\n",
       "      <td>3</td>\n",
       "      <td>12</td>\n",
       "      <td>2748</td>\n",
       "      <td>274.0</td>\n",
       "      <td>0</td>\n",
       "      <td>0</td>\n",
       "    </tr>\n",
       "    <tr>\n",
       "      <th>67646</th>\n",
       "      <td>101902</td>\n",
       "      <td>2017</td>\n",
       "      <td>5</td>\n",
       "      <td>7</td>\n",
       "      <td>0</td>\n",
       "      <td>7</td>\n",
       "      <td>3318</td>\n",
       "      <td>331.0</td>\n",
       "      <td>0</td>\n",
       "      <td>0</td>\n",
       "    </tr>\n",
       "    <tr>\n",
       "      <th>84546</th>\n",
       "      <td>101902</td>\n",
       "      <td>2017</td>\n",
       "      <td>6</td>\n",
       "      <td>10</td>\n",
       "      <td>5</td>\n",
       "      <td>15</td>\n",
       "      <td>3015</td>\n",
       "      <td>301.0</td>\n",
       "      <td>0</td>\n",
       "      <td>0</td>\n",
       "    </tr>\n",
       "    <tr>\n",
       "      <th>84547</th>\n",
       "      <td>101902</td>\n",
       "      <td>2017</td>\n",
       "      <td>6</td>\n",
       "      <td>9</td>\n",
       "      <td>0</td>\n",
       "      <td>9</td>\n",
       "      <td>1521</td>\n",
       "      <td>152.0</td>\n",
       "      <td>0</td>\n",
       "      <td>0</td>\n",
       "    </tr>\n",
       "    <tr>\n",
       "      <th>101447</th>\n",
       "      <td>101902</td>\n",
       "      <td>2017</td>\n",
       "      <td>7</td>\n",
       "      <td>0</td>\n",
       "      <td>0</td>\n",
       "      <td>0</td>\n",
       "      <td>0</td>\n",
       "      <td>0.0</td>\n",
       "      <td>0</td>\n",
       "      <td>0</td>\n",
       "    </tr>\n",
       "    <tr>\n",
       "      <th>101448</th>\n",
       "      <td>101902</td>\n",
       "      <td>2017</td>\n",
       "      <td>7</td>\n",
       "      <td>0</td>\n",
       "      <td>0</td>\n",
       "      <td>0</td>\n",
       "      <td>0</td>\n",
       "      <td>0.0</td>\n",
       "      <td>0</td>\n",
       "      <td>0</td>\n",
       "    </tr>\n",
       "    <tr>\n",
       "      <th>118348</th>\n",
       "      <td>101902</td>\n",
       "      <td>2017</td>\n",
       "      <td>8</td>\n",
       "      <td>17</td>\n",
       "      <td>0</td>\n",
       "      <td>17</td>\n",
       "      <td>3893</td>\n",
       "      <td>389.0</td>\n",
       "      <td>0</td>\n",
       "      <td>0</td>\n",
       "    </tr>\n",
       "  </tbody>\n",
       "</table>\n",
       "</div>"
      ],
      "text/plain": [
       "        numero_cliente   ano  mes  vuelos_reservados  vuelos_con_acompanantes  \\\n",
       "41              101902  2017    1                  0                        0   \n",
       "42              101902  2017    1                  0                        0   \n",
       "16942           101902  2017    2                  0                        0   \n",
       "16943           101902  2017    2                  0                        0   \n",
       "33843           101902  2017    3                  0                        0   \n",
       "33844           101902  2017    3                  0                        0   \n",
       "50744           101902  2017    4                  4                        0   \n",
       "185796          101902  2017    4                  4                        4   \n",
       "67645           101902  2017    5                  9                        3   \n",
       "67646           101902  2017    5                  7                        0   \n",
       "84546           101902  2017    6                 10                        5   \n",
       "84547           101902  2017    6                  9                        0   \n",
       "101447          101902  2017    7                  0                        0   \n",
       "101448          101902  2017    7                  0                        0   \n",
       "118348          101902  2017    8                 17                        0   \n",
       "\n",
       "        total_vuelos  distancia  puntos_acumulados  puntos_canjeados  \\\n",
       "41                 0          0                0.0                 0   \n",
       "42                 0          0                0.0                 0   \n",
       "16942              0          0                0.0                 0   \n",
       "16943              0          0                0.0                 0   \n",
       "33843              0          0                0.0                 0   \n",
       "33844              0          0                0.0                 0   \n",
       "50744              4       1460              146.0                 0   \n",
       "185796             8       2384              238.0               488   \n",
       "67645             12       2748              274.0                 0   \n",
       "67646              7       3318              331.0                 0   \n",
       "84546             15       3015              301.0                 0   \n",
       "84547              9       1521              152.0                 0   \n",
       "101447             0          0                0.0                 0   \n",
       "101448             0          0                0.0                 0   \n",
       "118348            17       3893              389.0                 0   \n",
       "\n",
       "        costo_en_dolares_de_los_puntos_canjeados  \n",
       "41                                             0  \n",
       "42                                             0  \n",
       "16942                                          0  \n",
       "16943                                          0  \n",
       "33843                                          0  \n",
       "33844                                          0  \n",
       "50744                                          0  \n",
       "185796                                        40  \n",
       "67645                                          0  \n",
       "67646                                          0  \n",
       "84546                                          0  \n",
       "84547                                          0  \n",
       "101447                                         0  \n",
       "101448                                         0  \n",
       "118348                                         0  "
      ]
     },
     "execution_count": 467,
     "metadata": {},
     "output_type": "execute_result"
    }
   ],
   "source": [
    "#  vemos que pasa con ese cliente\n",
    "df1.sort_values(by=[\"numero_cliente\", \"ano\", \"mes\"]).iloc[984:999,:]"
   ]
  },
  {
   "cell_type": "markdown",
   "metadata": {},
   "source": [
    "Algo raro, cuando el cliente no viaja genera filas por mes y por año vacias pero por otro lado hay dos filas por meses pero con numero de vuelos reservados por lo que entiendo que seran reservas realizadas en dias del mes distinto. Cuadno el cliente solo realiza un vaije por mes no pasa esto. Habria que profundizar más. \n",
    "\n",
    "Decido no borrar las columnas duplicadas por si el cliente ha reservado el mismo numero de vuelos el mismo ano y mes  pero distinto dia"
   ]
  },
  {
   "cell_type": "code",
   "execution_count": 468,
   "metadata": {},
   "outputs": [
    {
     "data": {
      "text/plain": [
       "388887"
      ]
     },
     "execution_count": 468,
     "metadata": {},
     "output_type": "execute_result"
    }
   ],
   "source": [
    "# Numeros de cliente duplicados\n",
    "df1[\"numero_cliente\"].duplicated().sum()"
   ]
  },
  {
   "cell_type": "markdown",
   "metadata": {},
   "source": [
    "Tenemos duplicados en la columna de numero de cliente debido a que el mismo cliente hace varios viajes. "
   ]
  },
  {
   "cell_type": "markdown",
   "metadata": {},
   "source": [
    "Como antes vimos en las graficas valores atipicos en costo en dolares vamos a entenderlo"
   ]
  },
  {
   "cell_type": "code",
   "execution_count": 469,
   "metadata": {},
   "outputs": [
    {
     "data": {
      "text/html": [
       "<div>\n",
       "<style scoped>\n",
       "    .dataframe tbody tr th:only-of-type {\n",
       "        vertical-align: middle;\n",
       "    }\n",
       "\n",
       "    .dataframe tbody tr th {\n",
       "        vertical-align: top;\n",
       "    }\n",
       "\n",
       "    .dataframe thead th {\n",
       "        text-align: right;\n",
       "    }\n",
       "</style>\n",
       "<table border=\"1\" class=\"dataframe\">\n",
       "  <thead>\n",
       "    <tr style=\"text-align: right;\">\n",
       "      <th></th>\n",
       "      <th>numero_cliente</th>\n",
       "      <th>ano</th>\n",
       "      <th>mes</th>\n",
       "      <th>vuelos_reservados</th>\n",
       "      <th>vuelos_con_acompanantes</th>\n",
       "      <th>total_vuelos</th>\n",
       "      <th>distancia</th>\n",
       "      <th>puntos_acumulados</th>\n",
       "      <th>puntos_canjeados</th>\n",
       "      <th>costo_en_dolares_de_los_puntos_canjeados</th>\n",
       "    </tr>\n",
       "  </thead>\n",
       "  <tbody>\n",
       "    <tr>\n",
       "      <th>374751</th>\n",
       "      <td>937662</td>\n",
       "      <td>2017</td>\n",
       "      <td>4</td>\n",
       "      <td>2</td>\n",
       "      <td>2</td>\n",
       "      <td>4</td>\n",
       "      <td>556</td>\n",
       "      <td>55.0</td>\n",
       "      <td>491</td>\n",
       "      <td>40</td>\n",
       "    </tr>\n",
       "  </tbody>\n",
       "</table>\n",
       "</div>"
      ],
      "text/plain": [
       "        numero_cliente   ano  mes  vuelos_reservados  vuelos_con_acompanantes  \\\n",
       "374751          937662  2017    4                  2                        2   \n",
       "\n",
       "        total_vuelos  distancia  puntos_acumulados  puntos_canjeados  \\\n",
       "374751             4        556               55.0               491   \n",
       "\n",
       "        costo_en_dolares_de_los_puntos_canjeados  \n",
       "374751                                        40  "
      ]
     },
     "execution_count": 469,
     "metadata": {},
     "output_type": "execute_result"
    }
   ],
   "source": [
    "# df con gasto\n",
    "df_con_gasto = df1[df1[\"costo_en_dolares_de_los_puntos_canjeados\"]!=0]\n",
    "df_con_gasto.sample()"
   ]
  },
  {
   "cell_type": "code",
   "execution_count": 470,
   "metadata": {},
   "outputs": [
    {
     "data": {
      "text/plain": [
       "5.961432262390785"
      ]
     },
     "execution_count": 470,
     "metadata": {},
     "output_type": "execute_result"
    }
   ],
   "source": [
    "# ver el porcentaje de dolares distintos de 0\n",
    "df1[df1[\"costo_en_dolares_de_los_puntos_canjeados\"]!=0].shape[0]/df1.shape[0]*100"
   ]
  },
  {
   "cell_type": "code",
   "execution_count": 471,
   "metadata": {},
   "outputs": [
    {
     "data": {
      "text/plain": [
       "94.03856773760921"
      ]
     },
     "execution_count": 471,
     "metadata": {},
     "output_type": "execute_result"
    }
   ],
   "source": [
    "# ver el porcentaje de dolares igual 0\n",
    "df1[df1[\"costo_en_dolares_de_los_puntos_canjeados\"]==0].shape[0]/df1.shape[0]*100"
   ]
  },
  {
   "cell_type": "markdown",
   "metadata": {},
   "source": [
    "Cerca del 6% realiza coste canjando puntos \n",
    "\n",
    "El 94% no causa coste canjeando puntos"
   ]
  },
  {
   "cell_type": "code",
   "execution_count": 472,
   "metadata": {},
   "outputs": [
    {
     "data": {
      "text/plain": [
       "count    24181.000000\n",
       "mean        41.676275\n",
       "std          9.736304\n",
       "min         24.000000\n",
       "25%         34.000000\n",
       "50%         41.000000\n",
       "75%         48.000000\n",
       "max         71.000000\n",
       "Name: costo_en_dolares_de_los_puntos_canjeados, dtype: float64"
      ]
     },
     "execution_count": 472,
     "metadata": {},
     "output_type": "execute_result"
    }
   ],
   "source": [
    "# estadistico variables numericas\n",
    "df_con_gasto[\"costo_en_dolares_de_los_puntos_canjeados\"].describe()"
   ]
  },
  {
   "cell_type": "code",
   "execution_count": 473,
   "metadata": {},
   "outputs": [
    {
     "data": {
      "text/plain": [
       "Text(0.5, 1.0, 'Coste $ de los puntos canjeados')"
      ]
     },
     "execution_count": 473,
     "metadata": {},
     "output_type": "execute_result"
    },
    {
     "data": {
      "image/png": "[encoded data removed]",
      "text/plain": [
       "<Figure size 576x432 with 1 Axes>"
      ]
     },
     "metadata": {
      "needs_background": "light"
     },
     "output_type": "display_data"
    }
   ],
   "source": [
    "# lo vemos en grafica\n",
    "plt.figure(figsize=(8, 6)) \n",
    "sns.boxplot(x = df_con_gasto[\"costo_en_dolares_de_los_puntos_canjeados\"]);\n",
    "plt.title(f\"Coste $ de los puntos canjeados\") "
   ]
  },
  {
   "cell_type": "markdown",
   "metadata": {},
   "source": [
    "Esto ya nos deja ver cual es el coste de la gente que canjea puntos. Vamos a comprobar pero debe de estar relacionado con los puntos canjeados"
   ]
  },
  {
   "cell_type": "code",
   "execution_count": 474,
   "metadata": {},
   "outputs": [
    {
     "data": {
      "text/plain": [
       "Text(0.5, 1.0, 'Coste $ de los puntos canjeados')"
      ]
     },
     "execution_count": 474,
     "metadata": {},
     "output_type": "execute_result"
    },
    {
     "data": {
      "image/png": "[encoded data removed]",
      "text/plain": [
       "<Figure size 576x432 with 1 Axes>"
      ]
     },
     "metadata": {
      "needs_background": "light"
     },
     "output_type": "display_data"
    }
   ],
   "source": [
    "# lo mismo para puntos\n",
    "plt.figure(figsize=(8, 6))\n",
    "sns.boxplot(x= df_con_gasto[\"puntos_canjeados\"]);\n",
    "plt.title(f\"Coste $ de los puntos canjeados\")\n"
   ]
  },
  {
   "cell_type": "markdown",
   "metadata": {},
   "source": [
    "Efectivamente parece que esta relacionado "
   ]
  },
  {
   "cell_type": "markdown",
   "metadata": {},
   "source": [
    "### Correlaciones"
   ]
  },
  {
   "cell_type": "code",
   "execution_count": 475,
   "metadata": {},
   "outputs": [],
   "source": [
    "# sacamos las columnas numericas (en este df todas)\n",
    "numericas = df1.select_dtypes(include = np.number).columns\n",
    "# las combinamos\n",
    "combinaciones = list(combinations(numericas, 2))"
   ]
  },
  {
   "cell_type": "code",
   "execution_count": 476,
   "metadata": {},
   "outputs": [
    {
     "name": "stdout",
     "output_type": "stream",
     "text": [
      "Las variables a las que tengamos que aplicar la correlacion de pearson son: []\n",
      "Las variables a las que tengamos que aplicar la correlacion de spearman son: [('numero_cliente', 'ano'), ('numero_cliente', 'mes'), ('numero_cliente', 'vuelos_reservados'), ('numero_cliente', 'vuelos_con_acompanantes'), ('numero_cliente', 'total_vuelos'), ('numero_cliente', 'distancia'), ('numero_cliente', 'puntos_acumulados'), ('numero_cliente', 'puntos_canjeados'), ('numero_cliente', 'costo_en_dolares_de_los_puntos_canjeados'), ('ano', 'mes'), ('ano', 'vuelos_reservados'), ('ano', 'vuelos_con_acompanantes'), ('ano', 'total_vuelos'), ('ano', 'distancia'), ('ano', 'puntos_acumulados'), ('ano', 'puntos_canjeados'), ('ano', 'costo_en_dolares_de_los_puntos_canjeados'), ('mes', 'vuelos_reservados'), ('mes', 'vuelos_con_acompanantes'), ('mes', 'total_vuelos'), ('mes', 'distancia'), ('mes', 'puntos_acumulados'), ('mes', 'puntos_canjeados'), ('mes', 'costo_en_dolares_de_los_puntos_canjeados'), ('vuelos_reservados', 'vuelos_con_acompanantes'), ('vuelos_reservados', 'total_vuelos'), ('vuelos_reservados', 'distancia'), ('vuelos_reservados', 'puntos_acumulados'), ('vuelos_reservados', 'puntos_canjeados'), ('vuelos_reservados', 'costo_en_dolares_de_los_puntos_canjeados'), ('vuelos_con_acompanantes', 'total_vuelos'), ('vuelos_con_acompanantes', 'distancia'), ('vuelos_con_acompanantes', 'puntos_acumulados'), ('vuelos_con_acompanantes', 'puntos_canjeados'), ('vuelos_con_acompanantes', 'costo_en_dolares_de_los_puntos_canjeados'), ('total_vuelos', 'distancia'), ('total_vuelos', 'puntos_acumulados'), ('total_vuelos', 'puntos_canjeados'), ('total_vuelos', 'costo_en_dolares_de_los_puntos_canjeados'), ('distancia', 'puntos_acumulados'), ('distancia', 'puntos_canjeados'), ('distancia', 'costo_en_dolares_de_los_puntos_canjeados'), ('puntos_acumulados', 'puntos_canjeados'), ('puntos_acumulados', 'costo_en_dolares_de_los_puntos_canjeados'), ('puntos_canjeados', 'costo_en_dolares_de_los_puntos_canjeados')]\n"
     ]
    }
   ],
   "source": [
    "# creamos una función para identificar si las relaciones entre las variables son lienales o no\n",
    "def identificar_linealidad (dataframe, lista_combinacion_columnas):\n",
    "    \"\"\"\n",
    "    Identifica si las relaciones entre pares de variables en un DataFrame son lineales o no.\n",
    "\n",
    "    Parameters:\n",
    "    -----------\n",
    "    dataframe : pandas.DataFrame\n",
    "        El DataFrame que contiene las variables a analizar.\n",
    "\n",
    "    lista_combinacion_columnas : list of tuples\n",
    "        Una lista de tuplas donde cada tupla contiene dos nombres de columnas del DataFrame que se desea analizar.\n",
    "\n",
    "    Returns:\n",
    "    --------\n",
    "    relaciones_lineales : list of tuples\n",
    "        Una lista de tuplas que contienen los nombres de las columnas que tienen una relación lineal.\n",
    "\n",
    "    relaciones_no_lineales : list of tuples\n",
    "        Una lista de tuplas que contienen los nombres de las columnas que no tienen una relación lineal.\n",
    "\n",
    "    \"\"\"\n",
    "    relaciones_lineales = []\n",
    "    relaciones_no_lineales = []\n",
    "\n",
    "    for tupla in lista_combinacion_columnas: \n",
    "        # Realizar la prueba de normalidad\n",
    "        _, p_value1 = kstest(dataframe[tupla[0]], \"norm\")\n",
    "        _, p_value2 = kstest(dataframe[tupla[1]], \"norm\")\n",
    "\n",
    "        if p_value1 > 0.05 and p_value2 > 0.05:\n",
    "            relaciones_lineales.append(tupla)\n",
    "        else:\n",
    "            relaciones_no_lineales.append(tupla)\n",
    "\n",
    "    return relaciones_lineales, relaciones_no_lineales\n",
    "\n",
    "# llamamos a la funcion\n",
    "\n",
    "lineal, no_lineal = identificar_linealidad(df1, combinaciones)\n",
    "\n",
    "print(f\"Las variables a las que tengamos que aplicar la correlacion de pearson son: {lineal}\")\n",
    "print(f\"Las variables a las que tengamos que aplicar la correlacion de spearman son: {no_lineal}\")"
   ]
  },
  {
   "cell_type": "code",
   "execution_count": 477,
   "metadata": {},
   "outputs": [
    {
     "data": {
      "text/html": [
       "<div>\n",
       "<style scoped>\n",
       "    .dataframe tbody tr th:only-of-type {\n",
       "        vertical-align: middle;\n",
       "    }\n",
       "\n",
       "    .dataframe tbody tr th {\n",
       "        vertical-align: top;\n",
       "    }\n",
       "\n",
       "    .dataframe thead th {\n",
       "        text-align: right;\n",
       "    }\n",
       "</style>\n",
       "<table border=\"1\" class=\"dataframe\">\n",
       "  <thead>\n",
       "    <tr style=\"text-align: right;\">\n",
       "      <th></th>\n",
       "      <th>numero_cliente</th>\n",
       "      <th>ano</th>\n",
       "      <th>mes</th>\n",
       "      <th>vuelos_reservados</th>\n",
       "      <th>vuelos_con_acompanantes</th>\n",
       "      <th>total_vuelos</th>\n",
       "      <th>distancia</th>\n",
       "      <th>puntos_acumulados</th>\n",
       "      <th>puntos_canjeados</th>\n",
       "      <th>costo_en_dolares_de_los_puntos_canjeados</th>\n",
       "    </tr>\n",
       "  </thead>\n",
       "  <tbody>\n",
       "    <tr>\n",
       "      <th>numero_cliente</th>\n",
       "      <td>1.000000</td>\n",
       "      <td>0.000000</td>\n",
       "      <td>0.000000</td>\n",
       "      <td>-0.002957</td>\n",
       "      <td>-0.002449</td>\n",
       "      <td>-0.003202</td>\n",
       "      <td>-0.002698</td>\n",
       "      <td>-0.002636</td>\n",
       "      <td>0.000050</td>\n",
       "      <td>0.000049</td>\n",
       "    </tr>\n",
       "    <tr>\n",
       "      <th>ano</th>\n",
       "      <td>0.000000</td>\n",
       "      <td>1.000000</td>\n",
       "      <td>0.000000</td>\n",
       "      <td>0.060230</td>\n",
       "      <td>0.031360</td>\n",
       "      <td>0.058543</td>\n",
       "      <td>0.064904</td>\n",
       "      <td>0.077014</td>\n",
       "      <td>0.018272</td>\n",
       "      <td>0.018269</td>\n",
       "    </tr>\n",
       "    <tr>\n",
       "      <th>mes</th>\n",
       "      <td>0.000000</td>\n",
       "      <td>0.000000</td>\n",
       "      <td>1.000000</td>\n",
       "      <td>0.068777</td>\n",
       "      <td>0.048860</td>\n",
       "      <td>0.071898</td>\n",
       "      <td>0.067234</td>\n",
       "      <td>0.053374</td>\n",
       "      <td>0.012181</td>\n",
       "      <td>0.012180</td>\n",
       "    </tr>\n",
       "    <tr>\n",
       "      <th>vuelos_reservados</th>\n",
       "      <td>-0.002957</td>\n",
       "      <td>0.060230</td>\n",
       "      <td>0.068777</td>\n",
       "      <td>1.000000</td>\n",
       "      <td>0.562755</td>\n",
       "      <td>0.987685</td>\n",
       "      <td>0.899097</td>\n",
       "      <td>0.896792</td>\n",
       "      <td>0.223292</td>\n",
       "      <td>0.223292</td>\n",
       "    </tr>\n",
       "    <tr>\n",
       "      <th>vuelos_con_acompanantes</th>\n",
       "      <td>-0.002449</td>\n",
       "      <td>0.031360</td>\n",
       "      <td>0.048860</td>\n",
       "      <td>0.562755</td>\n",
       "      <td>1.000000</td>\n",
       "      <td>0.671393</td>\n",
       "      <td>0.582580</td>\n",
       "      <td>0.580469</td>\n",
       "      <td>0.399132</td>\n",
       "      <td>0.399132</td>\n",
       "    </tr>\n",
       "    <tr>\n",
       "      <th>total_vuelos</th>\n",
       "      <td>-0.003202</td>\n",
       "      <td>0.058543</td>\n",
       "      <td>0.071898</td>\n",
       "      <td>0.987685</td>\n",
       "      <td>0.671393</td>\n",
       "      <td>1.000000</td>\n",
       "      <td>0.903163</td>\n",
       "      <td>0.900565</td>\n",
       "      <td>0.263902</td>\n",
       "      <td>0.263902</td>\n",
       "    </tr>\n",
       "    <tr>\n",
       "      <th>distancia</th>\n",
       "      <td>-0.002698</td>\n",
       "      <td>0.064904</td>\n",
       "      <td>0.067234</td>\n",
       "      <td>0.899097</td>\n",
       "      <td>0.582580</td>\n",
       "      <td>0.903163</td>\n",
       "      <td>1.000000</td>\n",
       "      <td>0.998066</td>\n",
       "      <td>0.238909</td>\n",
       "      <td>0.238908</td>\n",
       "    </tr>\n",
       "    <tr>\n",
       "      <th>puntos_acumulados</th>\n",
       "      <td>-0.002636</td>\n",
       "      <td>0.077014</td>\n",
       "      <td>0.053374</td>\n",
       "      <td>0.896792</td>\n",
       "      <td>0.580469</td>\n",
       "      <td>0.900565</td>\n",
       "      <td>0.998066</td>\n",
       "      <td>1.000000</td>\n",
       "      <td>0.238845</td>\n",
       "      <td>0.238843</td>\n",
       "    </tr>\n",
       "    <tr>\n",
       "      <th>puntos_canjeados</th>\n",
       "      <td>0.000050</td>\n",
       "      <td>0.018272</td>\n",
       "      <td>0.012181</td>\n",
       "      <td>0.223292</td>\n",
       "      <td>0.399132</td>\n",
       "      <td>0.263902</td>\n",
       "      <td>0.238909</td>\n",
       "      <td>0.238845</td>\n",
       "      <td>1.000000</td>\n",
       "      <td>0.999999</td>\n",
       "    </tr>\n",
       "    <tr>\n",
       "      <th>costo_en_dolares_de_los_puntos_canjeados</th>\n",
       "      <td>0.000049</td>\n",
       "      <td>0.018269</td>\n",
       "      <td>0.012180</td>\n",
       "      <td>0.223292</td>\n",
       "      <td>0.399132</td>\n",
       "      <td>0.263902</td>\n",
       "      <td>0.238908</td>\n",
       "      <td>0.238843</td>\n",
       "      <td>0.999999</td>\n",
       "      <td>1.000000</td>\n",
       "    </tr>\n",
       "  </tbody>\n",
       "</table>\n",
       "</div>"
      ],
      "text/plain": [
       "                                          numero_cliente       ano       mes  \\\n",
       "numero_cliente                                  1.000000  0.000000  0.000000   \n",
       "ano                                             0.000000  1.000000  0.000000   \n",
       "mes                                             0.000000  0.000000  1.000000   \n",
       "vuelos_reservados                              -0.002957  0.060230  0.068777   \n",
       "vuelos_con_acompanantes                        -0.002449  0.031360  0.048860   \n",
       "total_vuelos                                   -0.003202  0.058543  0.071898   \n",
       "distancia                                      -0.002698  0.064904  0.067234   \n",
       "puntos_acumulados                              -0.002636  0.077014  0.053374   \n",
       "puntos_canjeados                                0.000050  0.018272  0.012181   \n",
       "costo_en_dolares_de_los_puntos_canjeados        0.000049  0.018269  0.012180   \n",
       "\n",
       "                                          vuelos_reservados  \\\n",
       "numero_cliente                                    -0.002957   \n",
       "ano                                                0.060230   \n",
       "mes                                                0.068777   \n",
       "vuelos_reservados                                  1.000000   \n",
       "vuelos_con_acompanantes                            0.562755   \n",
       "total_vuelos                                       0.987685   \n",
       "distancia                                          0.899097   \n",
       "puntos_acumulados                                  0.896792   \n",
       "puntos_canjeados                                   0.223292   \n",
       "costo_en_dolares_de_los_puntos_canjeados           0.223292   \n",
       "\n",
       "                                          vuelos_con_acompanantes  \\\n",
       "numero_cliente                                          -0.002449   \n",
       "ano                                                      0.031360   \n",
       "mes                                                      0.048860   \n",
       "vuelos_reservados                                        0.562755   \n",
       "vuelos_con_acompanantes                                  1.000000   \n",
       "total_vuelos                                             0.671393   \n",
       "distancia                                                0.582580   \n",
       "puntos_acumulados                                        0.580469   \n",
       "puntos_canjeados                                         0.399132   \n",
       "costo_en_dolares_de_los_puntos_canjeados                 0.399132   \n",
       "\n",
       "                                          total_vuelos  distancia  \\\n",
       "numero_cliente                               -0.003202  -0.002698   \n",
       "ano                                           0.058543   0.064904   \n",
       "mes                                           0.071898   0.067234   \n",
       "vuelos_reservados                             0.987685   0.899097   \n",
       "vuelos_con_acompanantes                       0.671393   0.582580   \n",
       "total_vuelos                                  1.000000   0.903163   \n",
       "distancia                                     0.903163   1.000000   \n",
       "puntos_acumulados                             0.900565   0.998066   \n",
       "puntos_canjeados                              0.263902   0.238909   \n",
       "costo_en_dolares_de_los_puntos_canjeados      0.263902   0.238908   \n",
       "\n",
       "                                          puntos_acumulados  puntos_canjeados  \\\n",
       "numero_cliente                                    -0.002636          0.000050   \n",
       "ano                                                0.077014          0.018272   \n",
       "mes                                                0.053374          0.012181   \n",
       "vuelos_reservados                                  0.896792          0.223292   \n",
       "vuelos_con_acompanantes                            0.580469          0.399132   \n",
       "total_vuelos                                       0.900565          0.263902   \n",
       "distancia                                          0.998066          0.238909   \n",
       "puntos_acumulados                                  1.000000          0.238845   \n",
       "puntos_canjeados                                   0.238845          1.000000   \n",
       "costo_en_dolares_de_los_puntos_canjeados           0.238843          0.999999   \n",
       "\n",
       "                                          costo_en_dolares_de_los_puntos_canjeados  \n",
       "numero_cliente                                                            0.000049  \n",
       "ano                                                                       0.018269  \n",
       "mes                                                                       0.012180  \n",
       "vuelos_reservados                                                         0.223292  \n",
       "vuelos_con_acompanantes                                                   0.399132  \n",
       "total_vuelos                                                              0.263902  \n",
       "distancia                                                                 0.238908  \n",
       "puntos_acumulados                                                         0.238843  \n",
       "puntos_canjeados                                                          0.999999  \n",
       "costo_en_dolares_de_los_puntos_canjeados                                  1.000000  "
      ]
     },
     "execution_count": 477,
     "metadata": {},
     "output_type": "execute_result"
    }
   ],
   "source": [
    "# aplicamos el metodo spearman\n",
    "df_correlaciones = df1.corr( method = \"spearman\")\n",
    "df_correlaciones"
   ]
  },
  {
   "cell_type": "code",
   "execution_count": 478,
   "metadata": {},
   "outputs": [
    {
     "data": {
      "image/png": "[encoded data removed]",
      "text/plain": [
       "<Figure size 1080x1080 with 2 Axes>"
      ]
     },
     "metadata": {
      "needs_background": "light"
     },
     "output_type": "display_data"
    }
   ],
   "source": [
    "# Vamos a ponerlos en gráfico para verlo mejor\n",
    "# establecemos el tamaño de la gráfica\n",
    "plt.figure(figsize = (15, 15))\n",
    "\n",
    "# creamos una matriz booleana de máscara\n",
    "mask = np.triu(np.ones_like(df_correlaciones, dtype=bool))\n",
    "\n",
    "# creamos un heatmap con la máscara\n",
    "sns.heatmap(df_correlaciones, \n",
    "            annot = True, \n",
    "            fmt = \".2f\", \n",
    "            cmap = \"mako\", \n",
    "            vmax = 1, \n",
    "            vmin = -1, \n",
    "            mask = mask); "
   ]
  },
  {
   "cell_type": "markdown",
   "metadata": {},
   "source": [
    "1. **Correlación Débil**:\n",
    "\n",
    "   - El valor absoluto del coeficiente de correlación está cerca de 0.\n",
    "\n",
    "   - Por lo general, se considera una correlación débil si el valor absoluto está por debajo de 0.3.\n",
    "\n",
    "   - \n",
    "\n",
    "2. **Correlación Moderada**:\n",
    "\n",
    "   - El valor absoluto del coeficiente de correlación está en el rango de 0.3 a 0.7.\n",
    "\n",
    "   - Se considera una correlación moderada si el valor absoluto está en este rango.\n",
    "\n",
    "3. **Correlación Fuerte**:\n",
    "\n",
    "   - El valor absoluto del coeficiente de correlación es igual o superior a 0.7.\n",
    "\n",
    "   - Se considera una correlación fuerte si el valor absoluto está en este rango."
   ]
  },
  {
   "cell_type": "code",
   "execution_count": 479,
   "metadata": {},
   "outputs": [],
   "source": [
    "# guardamos\n",
    "df1.to_csv(\"Files/Customer Flight Activity_limpio.csv\")"
   ]
  }
 ],
 "metadata": {
  "kernelspec": {
   "display_name": "base",
   "language": "python",
   "name": "python3"
  },
  "language_info": {
   "codemirror_mode": {
    "name": "ipython",
    "version": 3
   },
   "file_extension": ".py",
   "mimetype": "text/x-python",
   "name": "python",
   "nbconvert_exporter": "python",
   "pygments_lexer": "ipython3",
   "version": "3.9.12"
  }
 },
 "nbformat": 4,
 "nbformat_minor": 2
}
