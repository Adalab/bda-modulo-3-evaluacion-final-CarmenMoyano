{
 "cells": [
  {
   "cell_type": "code",
   "execution_count": 48,
   "metadata": {},
   "outputs": [],
   "source": [
    "# importamos las librerías que necesitamos\n",
    "# Tratamiento de datos\n",
    "# -----------------------------------------------------------------------\n",
    "import pandas as pd\n",
    "import numpy as np\n",
    "\n",
    "# Imputación de nulos usando métodos avanzados estadísticos\n",
    "# -----------------------------------------------------------------------\n",
    "from sklearn.impute import SimpleImputer\n",
    "from sklearn.experimental import enable_iterative_imputer\n",
    "from sklearn.impute import IterativeImputer\n",
    "from sklearn.impute import KNNImputer\n",
    "\n",
    "# Librerías de visualización\n",
    "# -----------------------------------------------------------------------\n",
    "import seaborn as sns\n",
    "import matplotlib.pyplot as plt\n",
    "# Configuración\n",
    "# -----------------------------------------------------------------------\n",
    "pd.set_option('display.max_columns', None) # para poder visualizar todas las columnas de los DataFrames"
   ]
  },
  {
   "cell_type": "code",
   "execution_count": 150,
   "metadata": {},
   "outputs": [],
   "source": [
    "df1 = pd.read_csv(\"Files/Customer Flight Activity.csv\")"
   ]
  },
  {
   "cell_type": "code",
   "execution_count": 50,
   "metadata": {},
   "outputs": [],
   "source": [
    "columnas_traducidas = {\n",
    "    'Loyalty Number': 'numero_cliente',\n",
    "    'Year': 'ano',\n",
    "    'Month': 'mes',\n",
    "    'Flights Booked': 'vuelos_reservados',\n",
    "    'Flights with Companions': 'vuelos_con_acompanantes',\n",
    "    'Total Flights': 'total_vuelos',\n",
    "    'Distance': 'distancia',\n",
    "    'Points Accumulated': 'puntos_acumulados',\n",
    "    'Points Redeemed': 'puntos_canjeados',\n",
    "    'Dollar Cost Points Redeemed': 'costo_en_dolares_de_los_puntos_canjeados'\n",
    "}\n",
    "df1.rename(columns= columnas_traducidas, inplace=True)"
   ]
  },
  {
   "cell_type": "markdown",
   "metadata": {},
   "source": [
    "Vamos a eliminar las filas duplicadas"
   ]
  },
  {
   "cell_type": "code",
   "execution_count": 51,
   "metadata": {},
   "outputs": [
    {
     "name": "stdout",
     "output_type": "stream",
     "text": [
      "El numero de duplicados 1864\n",
      "El numero de filas antes de borrar los duplicados es 405624\n",
      "El numero de filas después de borrar los duplicados es 403760\n",
      "El calculo es correcto 403760\n"
     ]
    }
   ],
   "source": [
    "# Comprobamos el numero de duplicados\n",
    "print(f\"El número de duplicados es {df1.duplicated().sum()}\")\n",
    "# comprobamos el numero de filas\n",
    "print(f\"El número de filas antes de borrar los duplicados es {df1.shape[0]}\")\n",
    "# Eliminamos los duplicados\n",
    "df1.drop_duplicates(inplace=True)\n",
    "# Comprobamos\n",
    "print(f\"El número de filas después de borrar los duplicados es {df1.shape[0]}\")\n",
    "print(f\"El cálculo es correcto {405624-1864}\")"
   ]
  },
  {
   "cell_type": "code",
   "execution_count": 55,
   "metadata": {},
   "outputs": [
    {
     "data": {
      "text/html": [
       "<div>\n",
       "<style scoped>\n",
       "    .dataframe tbody tr th:only-of-type {\n",
       "        vertical-align: middle;\n",
       "    }\n",
       "\n",
       "    .dataframe tbody tr th {\n",
       "        vertical-align: top;\n",
       "    }\n",
       "\n",
       "    .dataframe thead th {\n",
       "        text-align: right;\n",
       "    }\n",
       "</style>\n",
       "<table border=\"1\" class=\"dataframe\">\n",
       "  <thead>\n",
       "    <tr style=\"text-align: right;\">\n",
       "      <th></th>\n",
       "      <th>numero_cliente</th>\n",
       "      <th>ano</th>\n",
       "      <th>mes</th>\n",
       "      <th>vuelos_reservados</th>\n",
       "      <th>vuelos_con_acompanantes</th>\n",
       "      <th>total_vuelos</th>\n",
       "      <th>distancia</th>\n",
       "      <th>puntos_acumulados</th>\n",
       "      <th>puntos_canjeados</th>\n",
       "      <th>costo_en_dolares_de_los_puntos_canjeados</th>\n",
       "    </tr>\n",
       "  </thead>\n",
       "  <tbody>\n",
       "    <tr>\n",
       "      <th>count</th>\n",
       "      <td>403760.000000</td>\n",
       "      <td>403760.000000</td>\n",
       "      <td>403760.000000</td>\n",
       "      <td>403760.000000</td>\n",
       "      <td>403760.000000</td>\n",
       "      <td>403760.000000</td>\n",
       "      <td>403760.000000</td>\n",
       "      <td>403760.000000</td>\n",
       "      <td>403760.000000</td>\n",
       "      <td>403760.000000</td>\n",
       "    </tr>\n",
       "    <tr>\n",
       "      <th>mean</th>\n",
       "      <td>549875.383713</td>\n",
       "      <td>2017.500352</td>\n",
       "      <td>6.501335</td>\n",
       "      <td>4.134050</td>\n",
       "      <td>1.036569</td>\n",
       "      <td>5.170619</td>\n",
       "      <td>1214.460979</td>\n",
       "      <td>124.263761</td>\n",
       "      <td>30.838587</td>\n",
       "      <td>2.495973</td>\n",
       "    </tr>\n",
       "    <tr>\n",
       "      <th>std</th>\n",
       "      <td>258961.514684</td>\n",
       "      <td>0.500000</td>\n",
       "      <td>3.451982</td>\n",
       "      <td>5.230064</td>\n",
       "      <td>2.080472</td>\n",
       "      <td>6.526858</td>\n",
       "      <td>1434.098521</td>\n",
       "      <td>146.696179</td>\n",
       "      <td>125.758002</td>\n",
       "      <td>10.172033</td>\n",
       "    </tr>\n",
       "    <tr>\n",
       "      <th>min</th>\n",
       "      <td>100018.000000</td>\n",
       "      <td>2017.000000</td>\n",
       "      <td>1.000000</td>\n",
       "      <td>0.000000</td>\n",
       "      <td>0.000000</td>\n",
       "      <td>0.000000</td>\n",
       "      <td>0.000000</td>\n",
       "      <td>0.000000</td>\n",
       "      <td>0.000000</td>\n",
       "      <td>0.000000</td>\n",
       "    </tr>\n",
       "    <tr>\n",
       "      <th>25%</th>\n",
       "      <td>326699.000000</td>\n",
       "      <td>2017.000000</td>\n",
       "      <td>4.000000</td>\n",
       "      <td>0.000000</td>\n",
       "      <td>0.000000</td>\n",
       "      <td>0.000000</td>\n",
       "      <td>0.000000</td>\n",
       "      <td>0.000000</td>\n",
       "      <td>0.000000</td>\n",
       "      <td>0.000000</td>\n",
       "    </tr>\n",
       "    <tr>\n",
       "      <th>50%</th>\n",
       "      <td>550598.000000</td>\n",
       "      <td>2018.000000</td>\n",
       "      <td>7.000000</td>\n",
       "      <td>1.000000</td>\n",
       "      <td>0.000000</td>\n",
       "      <td>1.000000</td>\n",
       "      <td>525.000000</td>\n",
       "      <td>53.000000</td>\n",
       "      <td>0.000000</td>\n",
       "      <td>0.000000</td>\n",
       "    </tr>\n",
       "    <tr>\n",
       "      <th>75%</th>\n",
       "      <td>772152.000000</td>\n",
       "      <td>2018.000000</td>\n",
       "      <td>10.000000</td>\n",
       "      <td>8.000000</td>\n",
       "      <td>1.000000</td>\n",
       "      <td>10.000000</td>\n",
       "      <td>2342.000000</td>\n",
       "      <td>240.000000</td>\n",
       "      <td>0.000000</td>\n",
       "      <td>0.000000</td>\n",
       "    </tr>\n",
       "    <tr>\n",
       "      <th>max</th>\n",
       "      <td>999986.000000</td>\n",
       "      <td>2018.000000</td>\n",
       "      <td>12.000000</td>\n",
       "      <td>21.000000</td>\n",
       "      <td>11.000000</td>\n",
       "      <td>32.000000</td>\n",
       "      <td>6293.000000</td>\n",
       "      <td>676.500000</td>\n",
       "      <td>876.000000</td>\n",
       "      <td>71.000000</td>\n",
       "    </tr>\n",
       "  </tbody>\n",
       "</table>\n",
       "</div>"
      ],
      "text/plain": [
       "       numero_cliente            ano            mes  vuelos_reservados  \\\n",
       "count   403760.000000  403760.000000  403760.000000      403760.000000   \n",
       "mean    549875.383713    2017.500352       6.501335           4.134050   \n",
       "std     258961.514684       0.500000       3.451982           5.230064   \n",
       "min     100018.000000    2017.000000       1.000000           0.000000   \n",
       "25%     326699.000000    2017.000000       4.000000           0.000000   \n",
       "50%     550598.000000    2018.000000       7.000000           1.000000   \n",
       "75%     772152.000000    2018.000000      10.000000           8.000000   \n",
       "max     999986.000000    2018.000000      12.000000          21.000000   \n",
       "\n",
       "       vuelos_con_acompanantes   total_vuelos      distancia  \\\n",
       "count            403760.000000  403760.000000  403760.000000   \n",
       "mean                  1.036569       5.170619    1214.460979   \n",
       "std                   2.080472       6.526858    1434.098521   \n",
       "min                   0.000000       0.000000       0.000000   \n",
       "25%                   0.000000       0.000000       0.000000   \n",
       "50%                   0.000000       1.000000     525.000000   \n",
       "75%                   1.000000      10.000000    2342.000000   \n",
       "max                  11.000000      32.000000    6293.000000   \n",
       "\n",
       "       puntos_acumulados  puntos_canjeados  \\\n",
       "count      403760.000000     403760.000000   \n",
       "mean          124.263761         30.838587   \n",
       "std           146.696179        125.758002   \n",
       "min             0.000000          0.000000   \n",
       "25%             0.000000          0.000000   \n",
       "50%            53.000000          0.000000   \n",
       "75%           240.000000          0.000000   \n",
       "max           676.500000        876.000000   \n",
       "\n",
       "       costo_en_dolares_de_los_puntos_canjeados  \n",
       "count                             403760.000000  \n",
       "mean                                   2.495973  \n",
       "std                                   10.172033  \n",
       "min                                    0.000000  \n",
       "25%                                    0.000000  \n",
       "50%                                    0.000000  \n",
       "75%                                    0.000000  \n",
       "max                                   71.000000  "
      ]
     },
     "execution_count": 55,
     "metadata": {},
     "output_type": "execute_result"
    }
   ],
   "source": [
    "df1.describe()"
   ]
  },
  {
   "cell_type": "code",
   "execution_count": 74,
   "metadata": {},
   "outputs": [
    {
     "data": {
      "image/png": "[encoded data removed]",
      "text/plain": [
       "<Figure size 576x432 with 1 Axes>"
      ]
     },
     "metadata": {
      "needs_background": "light"
     },
     "output_type": "display_data"
    },
    {
     "data": {
      "image/png": "[encoded data removed]",
      "text/plain": [
       "<Figure size 576x432 with 1 Axes>"
      ]
     },
     "metadata": {
      "needs_background": "light"
     },
     "output_type": "display_data"
    },
    {
     "data": {
      "image/png": "[encoded data removed]",
      "text/plain": [
       "<Figure size 576x432 with 1 Axes>"
      ]
     },
     "metadata": {
      "needs_background": "light"
     },
     "output_type": "display_data"
    },
    {
     "data": {
      "image/png": "[encoded data removed]",
      "text/plain": [
       "<Figure size 576x432 with 1 Axes>"
      ]
     },
     "metadata": {
      "needs_background": "light"
     },
     "output_type": "display_data"
    },
    {
     "data": {
      "image/png": "[encoded data removed]",
      "text/plain": [
       "<Figure size 576x432 with 1 Axes>"
      ]
     },
     "metadata": {
      "needs_background": "light"
     },
     "output_type": "display_data"
    },
    {
     "data": {
      "image/png": "[encoded data removed]",
      "text/plain": [
       "<Figure size 576x432 with 1 Axes>"
      ]
     },
     "metadata": {
      "needs_background": "light"
     },
     "output_type": "display_data"
    },
    {
     "data": {
      "image/png": "[encoded data removed]",
      "text/plain": [
       "<Figure size 576x432 with 1 Axes>"
      ]
     },
     "metadata": {
      "needs_background": "light"
     },
     "output_type": "display_data"
    }
   ],
   "source": [
    "for columna in df1.iloc[:,3:]:\n",
    "    plt.figure(figsize=(8, 6))\n",
    "    sns.boxplot(x=df1[columna])\n",
    "    plt.title(f'Boxplot de {columna}')\n",
    "    plt.xlabel(columna)\n",
    "    plt.show()"
   ]
  },
  {
   "cell_type": "code",
   "execution_count": 129,
   "metadata": {},
   "outputs": [
    {
     "data": {
      "text/plain": [
       "5.988953833960768"
      ]
     },
     "execution_count": 129,
     "metadata": {},
     "output_type": "execute_result"
    }
   ],
   "source": [
    "df1[df1[\"costo_en_dolares_de_los_puntos_canjeados\"]!=0].shape[0]/df1.shape[0]*100"
   ]
  },
  {
   "cell_type": "code",
   "execution_count": 130,
   "metadata": {},
   "outputs": [
    {
     "data": {
      "text/plain": [
       "94.01104616603924"
      ]
     },
     "execution_count": 130,
     "metadata": {},
     "output_type": "execute_result"
    }
   ],
   "source": [
    "df1[df1[\"costo_en_dolares_de_los_puntos_canjeados\"]==0].shape[0]/df1.shape[0]*100"
   ]
  },
  {
   "cell_type": "markdown",
   "metadata": {},
   "source": [
    "Cerca del 6% realiza coste canjando puntos  --> Analicemos esta media\n",
    "\n",
    "El 94% no causa coste canjeando puntos"
   ]
  },
  {
   "cell_type": "code",
   "execution_count": 131,
   "metadata": {},
   "outputs": [],
   "source": [
    "df_con_gasto = df1[df1[\"costo_en_dolares_de_los_puntos_canjeados\"]!=0]"
   ]
  },
  {
   "cell_type": "code",
   "execution_count": 133,
   "metadata": {},
   "outputs": [
    {
     "data": {
      "text/plain": [
       "count    24181.000000\n",
       "mean        41.676275\n",
       "std          9.736304\n",
       "min         24.000000\n",
       "25%         34.000000\n",
       "50%         41.000000\n",
       "75%         48.000000\n",
       "max         71.000000\n",
       "Name: costo_en_dolares_de_los_puntos_canjeados, dtype: float64"
      ]
     },
     "execution_count": 133,
     "metadata": {},
     "output_type": "execute_result"
    }
   ],
   "source": [
    "df_con_gasto[\"costo_en_dolares_de_los_puntos_canjeados\"].describe()"
   ]
  },
  {
   "cell_type": "code",
   "execution_count": 136,
   "metadata": {},
   "outputs": [
    {
     "data": {
      "image/png": "[encoded data removed]",
      "text/plain": [
       "<Figure size 576x432 with 1 Axes>"
      ]
     },
     "metadata": {
      "needs_background": "light"
     },
     "output_type": "display_data"
    }
   ],
   "source": [
    "plt.figure(figsize=(8, 6))\n",
    "sns.boxplot(x = df_con_gasto[\"costo_en_dolares_de_los_puntos_canjeados\"]);\n",
    "plt.title(f\"Coste $ de los puntos canjeados\")\n",
    "# plt.xlabel(columna)\n",
    "plt.show()"
   ]
  },
  {
   "cell_type": "markdown",
   "metadata": {},
   "source": [
    "Esto ya nos deja ver cual es el coste de la gente que canjea puntos. Vamos a comprobar pero debe de estar relacionado con los puntos canjeados"
   ]
  },
  {
   "cell_type": "code",
   "execution_count": 137,
   "metadata": {},
   "outputs": [
    {
     "data": {
      "text/plain": [
       "5.988953833960768"
      ]
     },
     "execution_count": 137,
     "metadata": {},
     "output_type": "execute_result"
    }
   ],
   "source": [
    "df1[df1[\"puntos_canjeados\"]!=0].shape[0]/df1.shape[0]*100"
   ]
  },
  {
   "cell_type": "code",
   "execution_count": 138,
   "metadata": {},
   "outputs": [
    {
     "data": {
      "image/png": "[encoded data removed]",
      "text/plain": [
       "<Figure size 576x432 with 1 Axes>"
      ]
     },
     "metadata": {
      "needs_background": "light"
     },
     "output_type": "display_data"
    }
   ],
   "source": [
    "plt.figure(figsize=(8, 6))\n",
    "sns.boxplot(x= df_con_gasto[\"puntos_canjeados\"]);\n",
    "plt.title(f\"Coste $ de los puntos canjeados\")\n",
    "# plt.xlabel(columna)\n",
    "plt.show()"
   ]
  },
  {
   "cell_type": "markdown",
   "metadata": {},
   "source": [
    "Efectivamente parece que esta relacionado "
   ]
  }
 ],
 "metadata": {
  "kernelspec": {
   "display_name": "base",
   "language": "python",
   "name": "python3"
  },
  "language_info": {
   "codemirror_mode": {
    "name": "ipython",
    "version": 3
   },
   "file_extension": ".py",
   "mimetype": "text/x-python",
   "name": "python",
   "nbconvert_exporter": "python",
   "pygments_lexer": "ipython3",
   "version": "3.9.12"
  }
 },
 "nbformat": 4,
 "nbformat_minor": 2
}
